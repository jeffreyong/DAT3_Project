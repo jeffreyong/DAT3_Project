{
 "cells": [
  {
   "cell_type": "markdown",
   "metadata": {},
   "source": [
    "### Sentiment Analyzer of Yelp Reviews"
   ]
  },
  {
   "cell_type": "markdown",
   "metadata": {},
   "source": [
    "The dataset consists of positive and negative reviews in 2 CSV files; positivedata.csv and negativedata.csv.\n",
    "The csv files were text files and there were no tags of whether the review was positive or negative."
   ]
  },
  {
   "cell_type": "markdown",
   "metadata": {},
   "source": [
    "### First attempt at building the sentiment analyzer"
   ]
  },
  {
   "cell_type": "code",
   "execution_count": 1,
   "metadata": {
    "collapsed": true
   },
   "outputs": [],
   "source": [
    "import pandas as pd\n",
    "import numpy as np"
   ]
  },
  {
   "cell_type": "code",
   "execution_count": 2,
   "metadata": {
    "collapsed": true
   },
   "outputs": [],
   "source": [
    "## load the positive reviews data and remove some of the empty lines of data\n",
    "\n",
    "with open('positivedata.csv', 'rU') as f:\n",
    "    file1 = [row for row in f]\n",
    "    file1 = map(lambda s: s.strip(), file1)\n",
    "    file1 = filter(None, file1)"
   ]
  },
  {
   "cell_type": "code",
   "execution_count": 3,
   "metadata": {
    "collapsed": true
   },
   "outputs": [],
   "source": [
    "## place data in a dataframe and insert the column headings and sentiment tag (1 for positive)\n",
    "\n",
    "pos_data_df = pd.DataFrame(file1)\n",
    "pos_data_df.columns = [\"reviews\"]\n",
    "pos_data_df.insert(0, \"sentiment\", 1)"
   ]
  },
  {
   "cell_type": "code",
   "execution_count": 6,
   "metadata": {},
   "outputs": [
    {
     "data": {
      "text/plain": [
       "(2264, 2)"
      ]
     },
     "execution_count": 6,
     "metadata": {},
     "output_type": "execute_result"
    }
   ],
   "source": [
    "pos_data_df.shape"
   ]
  },
  {
   "cell_type": "code",
   "execution_count": 5,
   "metadata": {},
   "outputs": [
    {
     "data": {
      "text/html": [
       "<div>\n",
       "<table border=\"1\" class=\"dataframe\">\n",
       "  <thead>\n",
       "    <tr style=\"text-align: right;\">\n",
       "      <th></th>\n",
       "      <th>sentiment</th>\n",
       "      <th>reviews</th>\n",
       "    </tr>\n",
       "  </thead>\n",
       "  <tbody>\n",
       "    <tr>\n",
       "      <th>0</th>\n",
       "      <td>1</td>\n",
       "      <td>﻿\"Excellent food. Superb customer service. I m...</td>\n",
       "    </tr>\n",
       "    <tr>\n",
       "      <th>1</th>\n",
       "      <td>1</td>\n",
       "      <td>Yes this place is a little out dated and not o...</td>\n",
       "    </tr>\n",
       "    <tr>\n",
       "      <th>2</th>\n",
       "      <td>1</td>\n",
       "      <td>\"All the food is great here. But the best thin...</td>\n",
       "    </tr>\n",
       "    <tr>\n",
       "      <th>3</th>\n",
       "      <td>1</td>\n",
       "      <td>\"The dining area is nice. Very family friendly...</td>\n",
       "    </tr>\n",
       "    <tr>\n",
       "      <th>4</th>\n",
       "      <td>1</td>\n",
       "      <td>I highly recommend this place. The mechanics a...</td>\n",
       "    </tr>\n",
       "  </tbody>\n",
       "</table>\n",
       "</div>"
      ],
      "text/plain": [
       "   sentiment                                            reviews\n",
       "0          1  ﻿\"Excellent food. Superb customer service. I m...\n",
       "1          1  Yes this place is a little out dated and not o...\n",
       "2          1  \"All the food is great here. But the best thin...\n",
       "3          1  \"The dining area is nice. Very family friendly...\n",
       "4          1  I highly recommend this place. The mechanics a..."
      ]
     },
     "execution_count": 5,
     "metadata": {},
     "output_type": "execute_result"
    }
   ],
   "source": [
    "pos_data_df.head()"
   ]
  },
  {
   "cell_type": "code",
   "execution_count": 7,
   "metadata": {
    "collapsed": true
   },
   "outputs": [],
   "source": [
    "## do similar for negative reviews\n",
    "with open('negativedata.csv', 'rU') as g:\n",
    "    file2 = [row for row in g]\n",
    "    file2 = map(lambda s: s.strip(), file2)\n",
    "    file2 = filter(None, file2)"
   ]
  },
  {
   "cell_type": "code",
   "execution_count": 8,
   "metadata": {
    "collapsed": true
   },
   "outputs": [],
   "source": [
    "# place in dataframe and tag negative sentiment as 0\n",
    "neg_data_df = pd.DataFrame(file2)\n",
    "neg_data_df.columns = [\"reviews\"]\n",
    "neg_data_df.insert(0, \"sentiment\", 0)"
   ]
  },
  {
   "cell_type": "code",
   "execution_count": 9,
   "metadata": {},
   "outputs": [
    {
     "data": {
      "text/plain": [
       "(2376, 2)"
      ]
     },
     "execution_count": 9,
     "metadata": {},
     "output_type": "execute_result"
    }
   ],
   "source": [
    "neg_data_df.shape"
   ]
  },
  {
   "cell_type": "code",
   "execution_count": 10,
   "metadata": {},
   "outputs": [
    {
     "data": {
      "text/html": [
       "<div>\n",
       "<table border=\"1\" class=\"dataframe\">\n",
       "  <thead>\n",
       "    <tr style=\"text-align: right;\">\n",
       "      <th></th>\n",
       "      <th>sentiment</th>\n",
       "      <th>reviews</th>\n",
       "    </tr>\n",
       "  </thead>\n",
       "  <tbody>\n",
       "    <tr>\n",
       "      <th>0</th>\n",
       "      <td>0</td>\n",
       "      <td>﻿\"Wing sauce is like water. Pretty much a lot ...</td>\n",
       "    </tr>\n",
       "    <tr>\n",
       "      <th>1</th>\n",
       "      <td>0</td>\n",
       "      <td>\"Owning a driving range inside the city limits...</td>\n",
       "    </tr>\n",
       "    <tr>\n",
       "      <th>2</th>\n",
       "      <td>0</td>\n",
       "      <td>Bottom line, this place sucks.  The best hope ...</td>\n",
       "    </tr>\n",
       "    <tr>\n",
       "      <th>3</th>\n",
       "      <td>0</td>\n",
       "      <td>\"This place is absolute garbage...  Half of th...</td>\n",
       "    </tr>\n",
       "    <tr>\n",
       "      <th>4</th>\n",
       "      <td>0</td>\n",
       "      <td>\"My fiancÃ© upgraded his phone at the Apple st...</td>\n",
       "    </tr>\n",
       "  </tbody>\n",
       "</table>\n",
       "</div>"
      ],
      "text/plain": [
       "   sentiment                                            reviews\n",
       "0          0  ﻿\"Wing sauce is like water. Pretty much a lot ...\n",
       "1          0  \"Owning a driving range inside the city limits...\n",
       "2          0  Bottom line, this place sucks.  The best hope ...\n",
       "3          0  \"This place is absolute garbage...  Half of th...\n",
       "4          0  \"My fiancÃ© upgraded his phone at the Apple st..."
      ]
     },
     "execution_count": 10,
     "metadata": {},
     "output_type": "execute_result"
    }
   ],
   "source": [
    "neg_data_df.head()"
   ]
  },
  {
   "cell_type": "code",
   "execution_count": 11,
   "metadata": {
    "collapsed": true
   },
   "outputs": [],
   "source": [
    "## combine the positive and negative reviews into a single dataframe\n",
    "data = pos_data_df.append(neg_data_df)"
   ]
  },
  {
   "cell_type": "code",
   "execution_count": 12,
   "metadata": {},
   "outputs": [
    {
     "data": {
      "text/plain": [
       "0    2376\n",
       "1    2264\n",
       "Name: sentiment, dtype: int64"
      ]
     },
     "execution_count": 12,
     "metadata": {},
     "output_type": "execute_result"
    }
   ],
   "source": [
    "## Count the labels in data to verify there are only 0 and 1\n",
    "data.sentiment.value_counts()"
   ]
  },
  {
   "cell_type": "code",
   "execution_count": 13,
   "metadata": {
    "scrolled": true
   },
   "outputs": [
    {
     "data": {
      "text/plain": [
       "56.073491379310347"
      ]
     },
     "execution_count": 13,
     "metadata": {},
     "output_type": "execute_result"
    }
   ],
   "source": [
    "## How long is the average length of the reviews?\n",
    "np.mean([len(s.split(\" \")) for s in data.reviews])"
   ]
  },
  {
   "cell_type": "code",
   "execution_count": 14,
   "metadata": {
    "collapsed": true
   },
   "outputs": [],
   "source": [
    "import re, nltk\n",
    "from sklearn.feature_extraction.text import CountVectorizer\n",
    "from nltk.stem.porter import PorterStemmer"
   ]
  },
  {
   "cell_type": "code",
   "execution_count": 15,
   "metadata": {
    "collapsed": true
   },
   "outputs": [],
   "source": [
    "## define stemmer\n",
    "stemmer = PorterStemmer()\n",
    "def stem_tokens(tokens, stemmer):\n",
    "    stemmed = []\n",
    "    for item in tokens:\n",
    "        stemmed.append(stemmer.stem(item))\n",
    "    return stemmed"
   ]
  },
  {
   "cell_type": "code",
   "execution_count": 16,
   "metadata": {
    "collapsed": true
   },
   "outputs": [],
   "source": [
    "# define tokenizer\n",
    "def tokenize(text):\n",
    "    text = re.sub(\"[^a-zA-Z]\", \" \", text) #remove all except letters\n",
    "    tokens = nltk.word_tokenize(text)\n",
    "    stems = stem_tokens(tokens, stemmer)\n",
    "    return stems"
   ]
  },
  {
   "cell_type": "code",
   "execution_count": 37,
   "metadata": {
    "collapsed": true
   },
   "outputs": [],
   "source": [
    "vectorizer = CountVectorizer(\n",
    "        analyzer = 'word',\n",
    "        tokenizer = tokenize,\n",
    "        lowercase = True,\n",
    "        stop_words = 'english',\n",
    "        max_features = 500)"
   ]
  },
  {
   "cell_type": "code",
   "execution_count": 38,
   "metadata": {
    "collapsed": true
   },
   "outputs": [],
   "source": [
    "# learn and fit the model/vectorizer and transform corpus into feature vectors\n",
    "\n",
    "corpus_all_features = vectorizer.fit_transform(data.reviews.tolist())"
   ]
  },
  {
   "cell_type": "code",
   "execution_count": 39,
   "metadata": {},
   "outputs": [
    {
     "name": "stdout",
     "output_type": "stream",
     "text": [
      "[u'abl', u'absolut', u'actual', u'adopt', u'ago', u'alreadi', u'alway', u'amaz', u'ani', u'anim', u'anoth', u'answer', u'anyon', u'anyth', u'apart', u'apolog', u'appet', u'appoint', u'area', u'arriv', u'ask', u'ate', u'atmospher', u'attent', u'attitud', u'avail', u'avoid', u'aw', u'away', u'awesom', u'bad', u'bar', u'bartend', u'base', u'basic', u'beauti', u'becaus', u'bed', u'beer', u'befor', u'believ', u'best', u'better', u'big', u'bike', u'birthday', u'bit', u'bite', u'bought', u'boyfriend', u'bread', u'breakfast', u'bring', u'brought', u'brunch', u'build', u'burger', u'busi', u'butter', u'buy', u'cake', u'came', u'car', u'card', u'care', u'casbah', u'cash', u'cat', u'chang', u'charg', u'cheap', u'check', u'chees', u'chef', u'chicken', u'chocol', u'choic', u'citi', u'class', u'clean', u'close', u'cloth', u'coffe', u'cold', u'come', u'comfort', u'compani', u'complain', u'complet', u'cook', u'cool', u'cost', u'couldn', u'counter', u'coupl', u'cours', u'cover', u'cream', u'crowd', u'custom', u'cut', u'd', u'day', u'deal', u'decent', u'decid', u'decor', u'definit', u'delici', u'deliv', u'deliveri', u'desk', u'dessert', u'did', u'didn', u'differ', u'dine', u'dinner', u'dirti', u'disappoint', u'dish', u'doe', u'doesn', u'dog', u'don', u'door', u'dress', u'dri', u'drink', u'drive', u'drop', u'dure', u'east', u'eat', u'eaten', u'egg', u'els', u'employe', u'empti', u'end', u'enjoy', u'entir', u'entre', u'especi', u'everi', u'everyon', u'everyth', u'excel', u'expect', u'expens', u'experi', u'explain', u'extra', u'extrem', u'eye', u'fact', u'famili', u'fantast', u'far', u'fast', u'favorit', u'feel', u'felt', u'final', u'fine', u'finish', u'fish', u'fit', u'fix', u'flavor', u'follow', u'food', u'free', u'french', u'fresh', u'fri', u'friday', u'friend', u'friendli', u'fun', u'game', u'gave', u'gener', u'giant', u'girl', u'given', u'glass', u'gone', u'good', u'got', u'great', u'grill', u'group', u'guess', u'guy', u'ha', u'hair', u'half', u'hand', u'happen', u'happi', u'hard', u'hate', u'head', u'help', u'hi', u'high', u'highli', u'home', u'honest', u'hope', u'horribl', u'hostess', u'hot', u'hotel', u'hour', u'hous', u'howev', u'huge', u'husband', u'ice', u'impress', u'includ', u'incred', u'inform', u'insid', u'instead', u'isn', u'issu', u'italian', u'item', u'job', u'just', u'kid', u'kind', u'kitchen', u'knew', u'know', u'lack', u'ladi', u'larg', u'late', u'later', u'leav', u'left', u'let', u'life', u'light', u'like', u'line', u'list', u'littl', u'live', u'll', u'lobster', u'local', u'locat', u'long', u'look', u'lot', u'love', u'lunch', u'm', u'make', u'man', u'manag', u'mani', u'market', u'mayb', u'meal', u'mean', u'meat', u'mechan', u'mention', u'menu', u'min', u'minut', u'miss', u'mix', u'money', u'month', u'morn', u'nail', u'need', u'neighborhood', u'new', u'nice', u'night', u'noth', u'notic', u'number', u'offer', u'offic', u'oh', u'oil', u'ok', u'old', u'oliv', u'onc', u'onion', u'onli', u'open', u'option', u'order', u'outsid', u'overal', u'owner', u'paid', u'park', u'parti', u'past', u'pasta', u'pay', u'peopl', u'perfect', u'person', u'phone', u'pick', u'piec', u'pierogi', u'pittsburgh', u'pizza', u'place', u'plan', u'plate', u'play', u'pleas', u'plu', u'pm', u'point', u'poor', u'portion', u'possibl', u'potato', u'prepar', u'pretti', u'price', u'probabl', u'problem', u'product', u'purchas', u'qualiti', u'question', u'quick', u'quickli', u'quit', u'rate', u'read', u'readi', u'real', u'realli', u'reason', u'receiv', u'recent', u'recommend', u'red', u'regular', u'rememb', u'rent', u'repair', u'replac', u'request', u'reserv', u'rest', u'restaur', u'return', u'review', u'rice', u'right', u'roll', u'room', u'rude', u'run', u's', u'said', u'salad', u'sandwich', u'sat', u'saturday', u'sauc', u'sausag', u'save', u'saw', u'say', u'season', u'seat', u'second', u'seen', u'select', u'sell', u'serv', u'server', u'servic', u'set', u'sever', u'shop', u'short', u'shrimp', u'sign', u'sinc', u'sit', u'size', u'slow', u'small', u'smell', u'someon', u'someth', u'sometim', u'soup', u'special', u'spend', u'spot', u'staff', u'stand', u'star', u'start', u'state', u'stay', u'steak', u'stop', u'store', u'street', u'stuff', u'style', u'suggest', u'super', u'suppos', u'sure', u'surpris', u'sushi', u'sweet', u't', u'tabl', u'taken', u'talk', u'tast', u'tasti', u'tell', u'terribl', u'thank', u'thi', u'thing', u'think', u'thought', u'tim', u'time', u'tip', u'tire', u'today', u'told', u'tomato', u'took', u'total', u'town', u'treat', u'tri', u'turn', u'type', u'understand', u'use', u'usual', u've', u'vegan', u'veri', u'visit', u'wa', u'wait', u'waiter', u'waitress', u'walk', u'wall', u'walter', u'want', u'warm', u'wasn', u'wast', u'watch', u'water', u'way', u'wed', u'week', u'weekend', u'went', u'whi', u'white', u'wife', u'wine', u'wish', u'woman', u'won', u'wonder', u'work', u'worst', u'worth', u'wouldn', u'write', u'wrong', u'ye', u'year', u'yelp']\n"
     ]
    }
   ],
   "source": [
    "# make corpus features a numpy array\n",
    "corpus_all_features = corpus_all_features.toarray()\n",
    "\n",
    "# print the features\n",
    "features_corpus = vectorizer.get_feature_names()\n",
    "print features_corpus"
   ]
  },
  {
   "cell_type": "code",
   "execution_count": 40,
   "metadata": {},
   "outputs": [
    {
     "data": {
      "text/plain": [
       "500"
      ]
     },
     "execution_count": 40,
     "metadata": {},
     "output_type": "execute_result"
    }
   ],
   "source": [
    "# check there are 100 features\n",
    "len(features_corpus)"
   ]
  },
  {
   "cell_type": "code",
   "execution_count": 41,
   "metadata": {
    "scrolled": true
   },
   "outputs": [
    {
     "name": "stdout",
     "output_type": "stream",
     "text": [
      "100 abl\n",
      "116 absolut\n",
      "171 actual\n",
      "54 adopt\n",
      "86 ago\n",
      "64 alreadi\n",
      "342 alway\n",
      "190 amaz\n",
      "308 ani\n",
      "79 anim\n",
      "285 anoth\n",
      "59 answer\n",
      "98 anyon\n",
      "143 anyth\n",
      "74 apart\n",
      "53 apolog\n",
      "94 appet\n",
      "91 appoint\n",
      "173 area\n",
      "132 arriv\n",
      "488 ask\n",
      "71 ate\n",
      "95 atmospher\n",
      "57 attent\n",
      "55 attitud\n",
      "53 avail\n",
      "56 avoid\n",
      "89 aw\n",
      "185 away\n",
      "121 awesom\n",
      "244 bad\n",
      "247 bar\n",
      "73 bartend\n",
      "54 base\n",
      "53 basic\n",
      "60 beauti\n",
      "475 becaus\n",
      "51 bed\n",
      "151 beer\n",
      "309 befor\n",
      "84 believ\n",
      "397 best\n",
      "262 better\n",
      "144 big\n",
      "85 bike\n",
      "78 birthday\n",
      "102 bit\n",
      "55 bite\n",
      "62 bought\n",
      "55 boyfriend\n",
      "193 bread\n",
      "112 breakfast\n",
      "105 bring\n",
      "81 brought\n",
      "62 brunch\n",
      "70 build\n",
      "68 burger\n",
      "299 busi\n",
      "60 butter\n",
      "94 buy\n",
      "130 cake\n",
      "312 came\n",
      "361 car\n",
      "64 card\n",
      "182 care\n",
      "90 casbah\n",
      "55 cash\n",
      "90 cat\n",
      "151 chang\n",
      "128 charg\n",
      "60 cheap\n",
      "224 check\n",
      "204 chees\n",
      "78 chef\n",
      "183 chicken\n",
      "54 chocol\n",
      "53 choic\n",
      "76 citi\n",
      "53 class\n",
      "123 clean\n",
      "114 close\n",
      "60 cloth\n",
      "209 coffe\n",
      "130 cold\n",
      "436 come\n",
      "50 comfort\n",
      "72 compani\n",
      "65 complain\n",
      "104 complet\n",
      "131 cook\n",
      "54 cool\n",
      "78 cost\n",
      "116 couldn\n",
      "91 counter\n",
      "94 coupl\n",
      "68 cours\n",
      "54 cover\n",
      "77 cream\n",
      "67 crowd\n",
      "276 custom\n",
      "109 cut\n",
      "231 d\n",
      "379 day\n",
      "88 deal\n",
      "64 decent\n",
      "126 decid\n",
      "53 decor\n",
      "182 definit\n",
      "198 delici\n",
      "63 deliv\n",
      "63 deliveri\n",
      "52 desk\n",
      "96 dessert\n",
      "351 did\n",
      "364 didn\n",
      "130 differ\n",
      "104 dine\n",
      "178 dinner\n",
      "65 dirti\n",
      "161 disappoint\n",
      "140 dish\n",
      "89 doe\n",
      "85 doesn\n",
      "97 dog\n",
      "477 don\n",
      "116 door\n",
      "99 dress\n",
      "80 dri\n",
      "286 drink\n",
      "96 drive\n",
      "64 drop\n",
      "90 dure\n",
      "61 east\n",
      "307 eat\n",
      "63 eaten\n",
      "72 egg\n",
      "166 els\n",
      "99 employe\n",
      "60 empti\n",
      "197 end\n",
      "135 enjoy\n",
      "85 entir\n",
      "86 entre\n",
      "84 especi\n",
      "203 everi\n",
      "124 everyon\n",
      "212 everyth\n",
      "125 excel\n",
      "132 expect\n",
      "61 expens\n",
      "284 experi\n",
      "71 explain\n",
      "78 extra\n",
      "106 extrem\n",
      "61 eye\n",
      "67 fact\n",
      "112 famili\n",
      "78 fantast\n",
      "99 far\n",
      "54 fast\n",
      "155 favorit\n",
      "183 feel\n",
      "63 felt\n",
      "143 final\n",
      "80 fine\n",
      "87 finish\n",
      "133 fish\n",
      "71 fit\n",
      "125 fix\n",
      "126 flavor\n",
      "50 follow\n",
      "1089 food\n",
      "102 free\n",
      "50 french\n",
      "150 fresh\n",
      "200 fri\n",
      "56 friday\n",
      "230 friend\n",
      "215 friendli\n",
      "69 fun\n",
      "75 game\n",
      "142 gave\n",
      "67 gener\n",
      "50 giant\n",
      "79 girl\n",
      "66 given\n",
      "96 glass\n",
      "60 gone\n",
      "789 good\n",
      "440 got\n",
      "703 great\n",
      "87 grill\n",
      "65 group\n",
      "56 guess\n",
      "183 guy\n",
      "380 ha\n",
      "83 hair\n",
      "143 half\n",
      "111 hand\n",
      "76 happen\n",
      "107 happi\n",
      "95 hard\n",
      "57 hate\n",
      "52 head\n",
      "220 help\n",
      "265 hi\n",
      "78 high\n",
      "93 highli\n",
      "190 home\n",
      "53 honest\n",
      "76 hope\n",
      "109 horribl\n",
      "61 hostess\n",
      "125 hot\n",
      "83 hotel\n",
      "283 hour\n",
      "78 hous\n",
      "85 howev\n",
      "84 huge\n",
      "99 husband\n",
      "76 ice\n",
      "62 impress\n",
      "80 includ\n",
      "58 incred\n",
      "66 inform\n",
      "90 insid\n",
      "94 instead\n",
      "78 isn\n",
      "75 issu\n",
      "103 italian\n",
      "128 item\n",
      "118 job\n",
      "795 just\n",
      "86 kid\n",
      "116 kind\n",
      "91 kitchen\n",
      "68 knew\n",
      "359 know\n",
      "61 lack\n",
      "63 ladi\n",
      "93 larg\n",
      "53 late\n",
      "131 later\n",
      "151 leav\n",
      "206 left\n",
      "152 let\n",
      "75 life\n",
      "73 light\n",
      "880 like\n",
      "88 line\n",
      "66 list\n",
      "238 littl\n",
      "149 live\n",
      "171 ll\n",
      "52 lobster\n",
      "116 local\n",
      "173 locat\n",
      "166 long\n",
      "499 look\n",
      "205 lot\n",
      "397 love\n",
      "143 lunch\n",
      "427 m\n",
      "429 make\n",
      "83 man\n",
      "241 manag\n",
      "173 mani\n",
      "53 market\n",
      "104 mayb\n",
      "228 meal\n",
      "85 mean\n",
      "123 meat\n",
      "73 mechan\n",
      "74 mention\n",
      "246 menu\n",
      "72 min\n",
      "398 minut\n",
      "64 miss\n",
      "71 mix\n",
      "158 money\n",
      "101 month\n",
      "71 morn\n",
      "58 nail\n",
      "340 need\n",
      "59 neighborhood\n",
      "261 new\n",
      "294 nice\n",
      "206 night\n",
      "163 noth\n",
      "76 notic\n",
      "57 number\n",
      "135 offer\n",
      "50 offic\n",
      "95 oh\n",
      "69 oil\n",
      "84 ok\n",
      "164 old\n",
      "54 oliv\n",
      "108 onc\n",
      "53 onion\n",
      "530 onli\n",
      "166 open\n",
      "100 option\n",
      "837 order\n",
      "87 outsid\n",
      "53 overal\n",
      "181 owner\n",
      "54 paid\n",
      "162 park\n",
      "114 parti\n",
      "85 past\n",
      "113 pasta\n",
      "158 pay\n",
      "365 peopl\n",
      "104 perfect\n",
      "157 person\n",
      "109 phone\n",
      "162 pick\n",
      "73 piec\n",
      "60 pierogi\n",
      "382 pittsburgh\n",
      "322 pizza\n",
      "1207 place\n",
      "57 plan\n",
      "92 plate\n",
      "53 play\n",
      "85 pleas\n",
      "61 plu\n",
      "114 pm\n",
      "141 point\n",
      "77 poor\n",
      "86 portion\n",
      "59 possibl\n",
      "95 potato\n",
      "70 prepar\n",
      "194 pretti\n",
      "341 price\n",
      "88 probabl\n",
      "110 problem\n",
      "58 product\n",
      "55 purchas\n",
      "134 qualiti\n",
      "63 question\n",
      "64 quick\n",
      "72 quickli\n",
      "77 quit\n",
      "57 rate\n",
      "81 read\n",
      "60 readi\n",
      "66 real\n",
      "470 realli\n",
      "148 reason\n",
      "113 receiv\n",
      "79 recent\n",
      "242 recommend\n",
      "56 red\n",
      "70 regular\n",
      "56 rememb\n",
      "50 rent\n",
      "102 repair\n",
      "56 replac\n",
      "51 request\n",
      "91 reserv\n",
      "55 rest\n",
      "425 restaur\n",
      "158 return\n",
      "261 review\n",
      "61 rice\n",
      "224 right\n",
      "115 roll\n",
      "183 room\n",
      "149 rude\n",
      "115 run\n",
      "1711 s\n",
      "380 said\n",
      "203 salad\n",
      "219 sandwich\n",
      "89 sat\n",
      "84 saturday\n",
      "190 sauc\n",
      "62 sausag\n",
      "59 save\n",
      "73 saw\n",
      "305 say\n",
      "54 season\n",
      "175 seat\n",
      "95 second\n",
      "64 seen\n",
      "123 select\n",
      "52 sell\n",
      "155 serv\n",
      "166 server\n",
      "708 servic\n",
      "89 set\n",
      "99 sever\n",
      "265 shop\n",
      "80 short\n",
      "74 shrimp\n",
      "65 sign\n",
      "220 sinc\n",
      "140 sit\n",
      "84 size\n",
      "51 slow\n",
      "138 small\n",
      "49 smell\n",
      "124 someon\n",
      "185 someth\n",
      "54 sometim\n",
      "134 soup\n",
      "140 special\n",
      "68 spend\n",
      "70 spot\n",
      "336 staff\n",
      "64 stand\n",
      "158 star\n",
      "167 start\n",
      "56 state\n",
      "134 stay\n",
      "88 steak\n",
      "181 stop\n",
      "294 store\n",
      "80 street\n",
      "60 stuff\n",
      "50 style\n",
      "53 suggest\n",
      "86 super\n",
      "51 suppos\n",
      "218 sure\n",
      "52 surpris\n",
      "66 sushi\n",
      "90 sweet\n",
      "1856 t\n",
      "340 tabl\n",
      "54 taken\n",
      "115 talk\n",
      "239 tast\n",
      "66 tasti\n",
      "169 tell\n",
      "146 terribl\n",
      "132 thank\n",
      "2056 thi\n",
      "331 thing\n",
      "265 think\n",
      "138 thought\n",
      "63 tim\n",
      "911 time\n",
      "61 tip\n",
      "92 tire\n",
      "75 today\n",
      "324 told\n",
      "57 tomato\n",
      "306 took\n",
      "83 total\n",
      "95 town\n",
      "105 treat\n",
      "409 tri\n",
      "102 turn\n",
      "53 type\n",
      "70 understand\n",
      "283 use\n",
      "98 usual\n",
      "479 ve\n",
      "72 vegan\n",
      "663 veri\n",
      "198 visit\n",
      "4275 wa\n",
      "518 wait\n",
      "85 waiter\n",
      "189 waitress\n",
      "249 walk\n",
      "66 wall\n",
      "96 walter\n",
      "434 want\n",
      "63 warm\n",
      "162 wasn\n",
      "56 wast\n",
      "73 watch\n",
      "103 water\n",
      "273 way\n",
      "88 wed\n",
      "180 week\n",
      "53 weekend\n",
      "370 went\n",
      "148 whi\n",
      "61 white\n",
      "71 wife\n",
      "97 wine\n",
      "62 wish\n",
      "74 woman\n",
      "101 won\n",
      "134 wonder\n",
      "410 work\n",
      "152 worst\n",
      "140 worth\n",
      "85 wouldn\n",
      "61 write\n",
      "95 wrong\n",
      "86 ye\n",
      "305 year\n",
      "66 yelp\n"
     ]
    }
   ],
   "source": [
    "# find frequency of features in corpus_all_features\n",
    "fdist_features = np.sum(corpus_all_features, axis=0)\n",
    "for word, count in zip(features_corpus, fdist_features):\n",
    "    print count, word"
   ]
  },
  {
   "cell_type": "code",
   "execution_count": 42,
   "metadata": {},
   "outputs": [],
   "source": [
    "# Training the data...\n",
    "from sklearn.cross_validation import train_test_split\n",
    "\n",
    "X_train, X_test, y_train, y_test  = train_test_split(\n",
    "        corpus_all_features, \n",
    "        data.sentiment,\n",
    "        train_size=0.85,\n",
    "        random_state=1234)"
   ]
  },
  {
   "cell_type": "code",
   "execution_count": 43,
   "metadata": {
    "collapsed": true
   },
   "outputs": [],
   "source": [
    "# Create the Log Regression classifier\n",
    "from sklearn.linear_model import LogisticRegression\n",
    "\n",
    "log_mod = LogisticRegression()\n",
    "log_mod = log_mod.fit(X_train, y_train)\n",
    "\n",
    "y_log_pred = log_mod.predict(X_test)"
   ]
  },
  {
   "cell_type": "code",
   "execution_count": 44,
   "metadata": {},
   "outputs": [
    {
     "name": "stdout",
     "output_type": "stream",
     "text": [
      "             precision    recall  f1-score   support\n",
      "\n",
      "          0       0.81      0.84      0.83       353\n",
      "          1       0.83      0.80      0.82       343\n",
      "\n",
      "avg / total       0.82      0.82      0.82       696\n",
      "\n"
     ]
    }
   ],
   "source": [
    "# find classifier precision\n",
    "from sklearn.metrics import classification_report\n",
    "print(classification_report(y_test, y_log_pred))"
   ]
  },
  {
   "cell_type": "markdown",
   "metadata": {},
   "source": [
    "The precision is the ratio `tp / (tp + fp)` where `tp` is the number of true positives and `fp` the number of false positives. The precision is intuitively the ability of the classifier not to label as positive a sample that is negative.\n",
    "\n",
    "The recall is the ratio `tp / (tp + fn)` where `tp` is the number of true positives and `fn` the number of false negatives. The recall is intuitively the ability of the classifier to find all the positive samples.\n",
    "\n",
    "The f1-score can be interpreted as a weighted harmonic mean of the precision and recall, where an f1-score reaches its best value at 1 and worst score at 0.\n",
    "\n",
    "The support is the number of occurrences of each class in `y_true`."
   ]
  },
  {
   "cell_type": "code",
   "execution_count": 45,
   "metadata": {
    "scrolled": true
   },
   "outputs": [
    {
     "name": "stdout",
     "output_type": "stream",
     "text": [
      "0 \"-Shrimp a few ways (\"\"\"\"Norfolk\"\"\"\" style is oily for my taste, and I never had it growing up in Norfolk.)\"\n",
      "0 -Hawkins St Special\n",
      "1 \"-Prime Rib (sized for two, watch it)\"\n",
      "0 \"The prices are low, the portions are large, and just about everything on the menu  is delicious. I'm not one to pick a place because they give you a lot of food, but if you like a good value and don't want to compromise on taste, this place is a gem.\"\"\"\n",
      "0 \"Old school.....traditional \"\"mom 'n pop\"\" quality and perfection. The best fish and chips you'll ever enjoy and equally superb fried shrimp. A great out of the way, non-corporate, vestige of Americana. You will love it.\"\n",
      "0 Seen this restaurant on 25 best places in Pittsburgh with Rick Seback\n",
      "0 \"ack. Went there with my girlfriend she grew up with the owner. She's very nice all employees are super nice service was excellent i had the fish sandwich my girlfriend had the Ruben more than you could possibly eat very reasonable prices. Going back to try the burgers  i heard there enormous and very tasty.\"\"\"\n",
      "0 \"Like a lot of recent patrons, I heard about Emil's from WQED.  The food is spectacular, the owner Chrissy and the staff treat you like family.  The food is like something your grandmother would make - classic dishes that are always consistently great and memorable.\"\n",
      "0 \"After a morning of Thrift Store hunting, a friend and I were thinking of lunch, and he suggested Emil's after he'd seen Chris Sebak do a bit on it and had tried it a time or two before, and I had not. He said they had a decent Reuben, but to be prepared to step back in time.\"\n",
      "0 \"Well, seeing as how I'm kind of addicted to late 40's and early 50's, and the whole Rat Pack scene, stepping back in time is a welcomed change in da burgh...as long as it doesn't involve 1979, which I can see all around me every day.\"\n",
      "0 \"And yet another shot at finding a decent Reuben in da burgh...well, that's like hunting the Holy Grail. So looking under one more bush certainly wouldn't hurt.\"\n",
      "0 \"So off we go right at lunchtime in the middle of...where exactly were we? At first I thought we were lost, driving around a handful of very rather dismal looking blocks in what looked like a neighborhood that had been blighted by the building of a highway. And then...AHA! Here it is! And yep, there it was. This little unassuming building with an add-on entrance with what looked like a very old hand painted sign stating quite simply 'Emil's. \"\n",
      "0 \"We walked in the front door, and entered another world. Another time, and another place. Oh, and any Big Burrito/Sousa foodies might as well stop reading now. I wouldn't want to see you walk in, roll your eyes and say 'Reaaaaaalllly?'\"\n",
      "0 \"This is about as old world bar/lounge/restaurant as it gets. Plain, with a dark wood bar on one side, plain white walls with no yinzer pics, good sturdy chairs and actual white linens on the tables. This is the kind of neighborhood dive that I could see Frank and Dino pulling a few tables together for some poker, a fish sammich, and some cheap scotch. And THAT is exactly what I love.\"\n",
      "1 Oh...but good food counts too.\n",
      "0 \"We each had a Reuben, and my friend had a side of fries. The Reubens were decent, but not NY awesome. A little too thick on the bread, but overall, tasty and definitely filling. Not too skimpy on the meat. I seriously CRAVE a true, good NY Reuben, but since I can't afford to travel right now, what I find in da burgh will have to do. But as we sat and ate, burgers came out to an adjoining table. Those were some big thick burgers. A steak went past for the table behind us. That was HUGE! And when we asked about it, the waitress said 'Yeah, it's huge and really good, and he only charges $12.99 for it, ain't that nuts?' Another table of five came in, and wham. Fish sandwiches PILED with breaded fish that looked amazing. Yeah, I want that, that, that and THAT!\"\n",
      "1 \"My friend also mentioned that they have a Chicken Parm special one day of the week that is only served UNTIL 4 pm, and that it is fantastic. If only I could GET there on that week day before 4...\"\n",
      "0 \"The waitress did a good job, especially since there was quite a growing crowd at lunchtime on a Saturday, and only one of her. She kept up and was very friendly. \"\n",
      "0 \"They only have Pepsi products, so I had a brewed iced tea, which was very fresh, and she did pop by to ask about refills as often as she could. As the lunch hour went on, they were getting busy.\"\n",
      "1 \"Emil's is no frills, good portions, very reasonable prices, VERY comfortable neighborhood hole in the wall...kind of like Cheers, but in a blue collar neighborhood in the 1950's. Fan-freakin-tastic! I could feel at home here.\"\n",
      "1 You definitely want to hit Mapquest or plug in your GPS though. I am not sure that I could find it again on my own...it really is a hidden gem. I will be making my friend take me back until I can memorize where the heck it is.\n",
      "0 \"Addendum: 2nd visit for the fish sandwich. Excellent. Truly. A pound of fish on a fish-shaped bun (as opposed to da burgh's seemingly popular hamburger bun). The fish was flavorful, the batter excellent, and for just $8. This may have been the best fish sandwich I've yet to have in da burgh.\"\"\"\n",
      "1 \"From reading the other reviews, I see this place was on some top 25 places in Pittsburgh list a few years ago.  I haven't seen it myself, but have known of this place for a while before my first visit in 2013.  It wasn't until my almost 80yo buddy, Mr. Italo Donatucci (world's coolest old Italian dude) brought me one of the best fish sandwiches I ever had that I became hooked!  I've had at least 10 since then, but only during the Lent season.  I gave my 5 rating based on the fish sandwich alone.  Try it without a bun also!  Either way you get 3 nice size pieces of fish equal to a pound.  You can have your choice of sides, but I always get the small mac n cheese for my side.  The staff is always really friendly and service is prompt.  It's in a rough neighborhood, but the Rankin police station is right across the street.  Almost every visit there I have seen police officers inside mingling with the locals or picking up lunch orders.  Soon I plan to make a visit that's not a Friday during Lent to try other menu items.\"\n",
      "0 \"I love everything about this place. The food is delicious (yes yes, the fish sandwiches, OK, I agree -- but DID YOU TRY THE MEATBALLS?? holy tamoley), I adore the staff, and I love that there are no windows -- it's its own little hermetically sealed 1950s world of delicious, real food and good people. Lots of places try to create this kind of ambiance, but it can't be manufactured. It takes decades of good food and good vibes.\"\n",
      "1 \"Also, the food is really good. :)\"\"\"\n",
      "1 \"I had a hankering for some fried fish tonight and the fish fry at Maximilian Kolbe was going to close before I got home on the bus, and I suggested to my wife and 12 year-old daughter that we try Emil's lounge as WQED's Rick Seback loved the place as did Andrew Zimmern when he visited for the Bizarre Foods America episode featuring Pittsburgh.  \"\n",
      "0 The place is in Rankin - a rough around the edges town in the Mon Valley between Swissvale and Braddock.  Don't be put off at first - the outside doesn't have much decoration to speak of and looks like the sort of place that you might think twice about it.  A TGI Fridays it isn't... And thank god for that.\n",
      "0 The place is well-kept but a little dated -  no fripperies here.  But we're not here for the Decor - we're here for some dinner.\n",
      "1 \"The menu is basic with reasonable prices.  The meats and seafood are high quality and everything is made to order.  Their stuffed cabbage is regarded as the best in  Pittsburgh.  I love stuffed cabbage but I just made a batch a couple of weeks ago and I'm cabbaged out.  Their Ruebens are   also killer (our waitress raved about them).  My wife and I both settled on fish sandwiches.  These are true Pittsburgh fish Sammiches - fresh fried fish in crispy breading, crammed between enormous pillows of soft, yet chewy and crispy Mancini's Italian bread.  No adornments - just a boatload of hot crispy fish.  Emil's uses thick cod fillets piled high rather than a thin fillet that needs to be broken up to fit in the bun.  Truly a great sandwich.  My daughter had the BLT - looked good and on good bread and they weren't skimpy with the bacon.\"\n",
      "1 The service was very pleasant and friendly and the crowd was a great group of folks.  We all had fun with 4 other tables when my wife pulled up a Trivial Pursuit game on her iPhone and pretty much everyone joined in and had a good laugh.\n",
      "0 \"Overall, if you consider yourself a true Pittsburgher - you must visit this place.  It's one of the few places (Big Jim's in the Run is another) where the spirit of Pittsburgh is alive and hungry.  Please go.\"\"\"\n",
      "1 \"We have been coming here for over 30 years, consistantly good food and friendly staff. Vwey reasonably priced and large portions. The owner, Chrissy has taken what Emil started years ago and built it into a place we will return to again and again. Favorites are the fish and burgers, hard to pick one!\"\n",
      "0 \"We had gone to the Frick Mansion for a tour and I told my friends we were stopping off for a lunch in Rankin. There wasn't much enthusiasm about the location but the reluctantly agreed.  We stopped in front and my wife said we aren't going in there are we? Well once the order the food and enjoyed the best Reuben,  fish sandwich and stuffed peppers they were sold. The owner came over and thanked us for stopping. She is a real asset to the place. The restrooms were spotless, which important to my wife. I have taken places where she had to hover  over the commode. I went back two days later for the hulushki. A real gem a perfect place to eat real comfort food. Don't forget the liver and onions.\"\n",
      "0 \"Excellent fish sandwich, Wonderful Reuben Sandwich, even the stuffed cabbage tastes homemade.   Chrissy \"\n",
      "1 \"Is a delightful hostess and makes you feel welcome.  Restaurant personnel are pleasant.   I really enjoy visiting Emils when I'm in town   My only regret is that they are closed Mondays.   Worth the trip\"\"\"\n"
     ]
    }
   ],
   "source": [
    "# print sample of predictions\n",
    "for review, sentiment in zip(data.reviews[15:50], y_log_pred[15:50]):\n",
    "    print sentiment, review"
   ]
  },
  {
   "cell_type": "markdown",
   "metadata": {},
   "source": [
    "## Second attempt\n",
    "### For the second attempt, the text is 'cleaned' before tagging them with the sentiment. Other classifiers are also used and the accuracy scores are compared."
   ]
  },
  {
   "cell_type": "code",
   "execution_count": 46,
   "metadata": {
    "collapsed": true
   },
   "outputs": [],
   "source": [
    "%matplotlib inline\n",
    "import matplotlib.pyplot as plt\n",
    "import pandas as pd\n",
    "import numpy as np\n",
    "import nltk, re\n",
    "from nltk.corpus import stopwords\n",
    "from nltk.stem.porter import PorterStemmer"
   ]
  },
  {
   "cell_type": "code",
   "execution_count": 47,
   "metadata": {
    "collapsed": true
   },
   "outputs": [],
   "source": [
    "## define a function to convert a raw review to a string of words\n",
    "\n",
    "def review_to_words(raw):\n",
    "    # Remove quotation marks\n",
    "    review_text = re.sub(r'^\"|\"$', '', raw)\n",
    "    # Remove non-letters\n",
    "    letters = re.sub(\"[^a-zA-Z]\", \" \", review_text)\n",
    "    # Lower case and split into individual words\n",
    "    words = letters.lower().split()\n",
    "    # Convert stop words to a set\n",
    "    stops = set(stopwords.words(\"english\"))\n",
    "    # Remove stop words\n",
    "    relevant_words = [w for w in words if not w in stops]\n",
    "    # Join words back into one string separated by space, return result\n",
    "    return( \" \".join(relevant_words))"
   ]
  },
  {
   "cell_type": "code",
   "execution_count": 48,
   "metadata": {},
   "outputs": [
    {
     "data": {
      "text/plain": [
       "'excellent food superb customer service miss mario machines used still great place steeped tradition'"
      ]
     },
     "execution_count": 48,
     "metadata": {},
     "output_type": "execute_result"
    }
   ],
   "source": [
    "review_to_words(file1[0])"
   ]
  },
  {
   "cell_type": "code",
   "execution_count": 49,
   "metadata": {},
   "outputs": [
    {
     "data": {
      "text/plain": [
       "'wing sauce like water pretty much lot butter hot sauce franks red hot maybe whole wings good size crispy wing sauce could better hot extra hot flavor heat fish sandwich good large portion sides decent'"
      ]
     },
     "execution_count": 49,
     "metadata": {},
     "output_type": "execute_result"
    }
   ],
   "source": [
    "review_to_words(file2[0])"
   ]
  },
  {
   "cell_type": "code",
   "execution_count": 51,
   "metadata": {},
   "outputs": [
    {
     "name": "stdout",
     "output_type": "stream",
     "text": [
      "Cleaning the set of positive reviews....\n",
      "\n",
      "Review 500 of 2264\n",
      "\n",
      "Review 1000 of 2264\n",
      "\n",
      "Review 1500 of 2264\n",
      "\n",
      "Review 2000 of 2264\n",
      "\n",
      "Cleaning the set of negative reviews....\n",
      "\n",
      "Review 500 of 2376\n",
      "\n",
      "Review 1000 of 2376\n",
      "\n",
      "Review 1500 of 2376\n",
      "\n",
      "Review 2000 of 2376\n",
      "\n"
     ]
    }
   ],
   "source": [
    "# Clean the positive and negative reviews\n",
    "num_pos_reviews = len(file1)\n",
    "num_neg_reviews = len(file2)\n",
    "\n",
    "print \"Cleaning the set of positive reviews....\\n\"\n",
    "# Initialize empty list to hold cleaned positive reviews\n",
    "clean_pos_reviews = []\n",
    "for i in xrange(1, num_pos_reviews):\n",
    "    if ((i+1)%500 == 0):\n",
    "        print \"Review %d of %d\\n\" % (i+1, num_pos_reviews)\n",
    "    clean_pos_reviews.append(review_to_words(file1[i]))\n",
    "\n",
    "# Clean all negative reviews, status updates\n",
    "print \"Cleaning the set of negative reviews....\\n\"\n",
    "# Initialize empty list to hold cleaned negative reviews\n",
    "clean_neg_reviews = []\n",
    "for i in xrange(1, num_neg_reviews):\n",
    "    if ((i+1)%500 == 0):\n",
    "        print \"Review %d of %d\\n\" % (i+1, num_neg_reviews)\n",
    "    clean_neg_reviews.append(review_to_words(file2[i]))"
   ]
  },
  {
   "cell_type": "code",
   "execution_count": 52,
   "metadata": {
    "collapsed": true
   },
   "outputs": [],
   "source": [
    "# Create column headings and tag the positive reviews with sentiment 1\n",
    "pos_data_df = pd.DataFrame(clean_pos_reviews)\n",
    "pos_data_df.columns = [\"reviews\"]\n",
    "pos_data_df.insert(0, \"sentiment\", 1)\n",
    "\n",
    "# Create column headings and tag the negative reviews with sentiment 0\n",
    "neg_data_df = pd.DataFrame(clean_neg_reviews)\n",
    "neg_data_df.columns = [\"reviews\"]\n",
    "neg_data_df.insert(0, \"sentiment\", 0)"
   ]
  },
  {
   "cell_type": "code",
   "execution_count": 54,
   "metadata": {},
   "outputs": [
    {
     "data": {
      "text/plain": [
       "(2263, 2)"
      ]
     },
     "execution_count": 54,
     "metadata": {},
     "output_type": "execute_result"
    }
   ],
   "source": [
    "pos_data_df.shape"
   ]
  },
  {
   "cell_type": "code",
   "execution_count": 57,
   "metadata": {},
   "outputs": [
    {
     "data": {
      "text/html": [
       "<div>\n",
       "<table border=\"1\" class=\"dataframe\">\n",
       "  <thead>\n",
       "    <tr style=\"text-align: right;\">\n",
       "      <th></th>\n",
       "      <th></th>\n",
       "      <th>reviews</th>\n",
       "    </tr>\n",
       "    <tr>\n",
       "      <th>sentiment</th>\n",
       "      <th></th>\n",
       "      <th></th>\n",
       "    </tr>\n",
       "  </thead>\n",
       "  <tbody>\n",
       "    <tr>\n",
       "      <th rowspan=\"4\" valign=\"top\">1</th>\n",
       "      <th>count</th>\n",
       "      <td>2263</td>\n",
       "    </tr>\n",
       "    <tr>\n",
       "      <th>unique</th>\n",
       "      <td>2253</td>\n",
       "    </tr>\n",
       "    <tr>\n",
       "      <th>top</th>\n",
       "      <td>love place</td>\n",
       "    </tr>\n",
       "    <tr>\n",
       "      <th>freq</th>\n",
       "      <td>3</td>\n",
       "    </tr>\n",
       "  </tbody>\n",
       "</table>\n",
       "</div>"
      ],
      "text/plain": [
       "                     reviews\n",
       "sentiment                   \n",
       "1         count         2263\n",
       "          unique        2253\n",
       "          top     love place\n",
       "          freq             3"
      ]
     },
     "execution_count": 57,
     "metadata": {},
     "output_type": "execute_result"
    }
   ],
   "source": [
    "pos_data_df.groupby('sentiment').describe()"
   ]
  },
  {
   "cell_type": "code",
   "execution_count": 56,
   "metadata": {},
   "outputs": [
    {
     "data": {
      "text/plain": [
       "(2375, 2)"
      ]
     },
     "execution_count": 56,
     "metadata": {},
     "output_type": "execute_result"
    }
   ],
   "source": [
    "neg_data_df.shape"
   ]
  },
  {
   "cell_type": "code",
   "execution_count": 58,
   "metadata": {},
   "outputs": [
    {
     "data": {
      "text/html": [
       "<div>\n",
       "<table border=\"1\" class=\"dataframe\">\n",
       "  <thead>\n",
       "    <tr style=\"text-align: right;\">\n",
       "      <th></th>\n",
       "      <th></th>\n",
       "      <th>reviews</th>\n",
       "    </tr>\n",
       "    <tr>\n",
       "      <th>sentiment</th>\n",
       "      <th></th>\n",
       "      <th></th>\n",
       "    </tr>\n",
       "  </thead>\n",
       "  <tbody>\n",
       "    <tr>\n",
       "      <th rowspan=\"4\" valign=\"top\">0</th>\n",
       "      <th>count</th>\n",
       "      <td>2375</td>\n",
       "    </tr>\n",
       "    <tr>\n",
       "      <th>unique</th>\n",
       "      <td>2356</td>\n",
       "    </tr>\n",
       "    <tr>\n",
       "      <th>top</th>\n",
       "      <td></td>\n",
       "    </tr>\n",
       "    <tr>\n",
       "      <th>freq</th>\n",
       "      <td>5</td>\n",
       "    </tr>\n",
       "  </tbody>\n",
       "</table>\n",
       "</div>"
      ],
      "text/plain": [
       "                 reviews\n",
       "sentiment               \n",
       "0         count     2375\n",
       "          unique    2356\n",
       "          top           \n",
       "          freq         5"
      ]
     },
     "execution_count": 58,
     "metadata": {},
     "output_type": "execute_result"
    }
   ],
   "source": [
    "neg_data_df.groupby('sentiment').describe()"
   ]
  },
  {
   "cell_type": "code",
   "execution_count": 59,
   "metadata": {},
   "outputs": [
    {
     "name": "stdout",
     "output_type": "stream",
     "text": [
      "   sentiment                                            reviews  length\n",
      "0          1  yes place little dated opened weekend staff al...     221\n",
      "1          1  food great best thing wings wings simply fanta...     149\n",
      "2          1  dining area nice family friendly bar nice well...     105\n",
      "3          1  highly recommend place mechanics really honest...      61\n",
      "4          1  big believer first impressions go new business...     448\n",
      "5          1  thank rob truly appreciated help received agen...     377\n",
      "6          1  place delicious parents saw recommendation vis...     635\n",
      "7          1            miss stop best fish sandwich pittsburgh      39\n",
      "8          1             place lot reviews glad need get busier      38\n",
      "9          1  ages looks ambiance bother pretend movie set p...     288\n"
     ]
    }
   ],
   "source": [
    "pos_data_df['length'] = pos_data_df['reviews'].map(lambda text: len(text))\n",
    "print pos_data_df.head(10)"
   ]
  },
  {
   "cell_type": "code",
   "execution_count": 60,
   "metadata": {},
   "outputs": [
    {
     "name": "stdout",
     "output_type": "stream",
     "text": [
      "      sentiment                                            reviews  length\n",
      "2253          1  restaurant deserve star rating yelp star ratin...     236\n",
      "2254          1  husband took year old daughter amazing experie...     255\n",
      "2255          1  foody family gave gem portuguese mediterranean...     163\n",
      "2256          1  despite bloody labor battles fought old homest...     239\n",
      "2257          1  begin tour helen frick art museum located reyn...     291\n",
      "2258          1  next car carriage museum henry clay frick appa...     181\n",
      "2259          1  move favorite greenhouse gardens lawns believe...     155\n",
      "2260          1  finally come house clayton purchased princely ...     176\n",
      "2261          1  stop frick complete without visiting cafe beli...     442\n",
      "2262          1  forget tea wonderful service impeccable guests...      75\n"
     ]
    }
   ],
   "source": [
    "print pos_data_df.tail(10)"
   ]
  },
  {
   "cell_type": "code",
   "execution_count": 61,
   "metadata": {},
   "outputs": [
    {
     "name": "stdout",
     "output_type": "stream",
     "text": [
      "   sentiment                                            reviews  length\n",
      "0          0  owning driving range inside city limits like l...     585\n",
      "1          0  bottom line place sucks best hope owner sells ...     106\n",
      "2          0  place absolute garbage half tees available inc...     293\n",
      "3          0  fianc upgraded phone apple store got strange t...     368\n",
      "4          0  waited mins people ahead finally getting helpe...      51\n",
      "5          0  understand busy ridiculous work robinson went ...     170\n",
      "6          0  go place scam comes opening freezing canceling...     163\n",
      "7          0  used go tires brakes etc prices gone way mid l...     208\n",
      "8          0  got new tires within two weeks got flat took c...     181\n",
      "9          0  took tire flynn told someone punctured tire tr...     155\n"
     ]
    }
   ],
   "source": [
    "neg_data_df['length'] = neg_data_df['reviews'].map(lambda text: len(text))\n",
    "print neg_data_df.head(10)"
   ]
  },
  {
   "cell_type": "code",
   "execution_count": 64,
   "metadata": {},
   "outputs": [
    {
     "data": {
      "text/plain": [
       "<matplotlib.axes._subplots.AxesSubplot at 0x11fdeaed0>"
      ]
     },
     "execution_count": 64,
     "metadata": {},
     "output_type": "execute_result"
    },
    {
     "data": {
      "image/png": "[encoded data removed]",
      "text/plain": [
       "<matplotlib.figure.Figure at 0x11fdd00d0>"
      ]
     },
     "metadata": {},
     "output_type": "display_data"
    }
   ],
   "source": [
    "pos_data_df.length.plot(bins=30, kind='hist')"
   ]
  },
  {
   "cell_type": "code",
   "execution_count": 65,
   "metadata": {},
   "outputs": [
    {
     "data": {
      "text/plain": [
       "count    2263.000000\n",
       "mean      165.048166\n",
       "std       144.419356\n",
       "min         0.000000\n",
       "25%        65.000000\n",
       "50%       132.000000\n",
       "75%       222.000000\n",
       "max      1786.000000\n",
       "Name: length, dtype: float64"
      ]
     },
     "execution_count": 65,
     "metadata": {},
     "output_type": "execute_result"
    }
   ],
   "source": [
    "pos_data_df.length.describe()"
   ]
  },
  {
   "cell_type": "code",
   "execution_count": 67,
   "metadata": {},
   "outputs": [
    {
     "name": "stdout",
     "output_type": "stream",
     "text": [
      "['years ago lost partner love life tragic accident struggling horrific grief difficulty getting back life knew grief counselor suggested help something else order help feel better decided since animal lover would try volunteering animal shelter working lot time wanted shelter feel right visited good work one kept drawing back arl yes building old bit run stop staff administration best little best space saw bathroom renovated vet tech office saw janitor closet renovated made rodent room cats lived cages along halls arl new building next door old gas station made cat adoption center staff still young going years shelter place employment matter know something place right volunteer easily hours week arl get see good bad ugly tell first hand good staff executive director dan rossi work goes animals staff knows every one animals care keep doors wide open domestic wild animals even means staff member volunteer takes cat dog home answer never ever animal also volunteer humane society united states travel around countryside working dogfighting raids cruelty hoarding natural disasters arl never said ask bring animals back incredibly sad inhumane situations technically numbers kill shelter open door people often call kill shelter yes sometimes animal euthanized arl animal control shelter city pittsburgh bring upsetting disturbing signs animal cruelty also mean dog bit kid saw news arl obligation society let dangerous dogs back street euthanize dog sick aggressive humans animals trust held many dogs put sleep always thankful vet staff compassionate euthanasia humane manner tough job heartbreaking cases done good animal safety society admire work staff arl continue devote time thank wonderful work behalf city pittsburgh wild domestic animals alike lucky area city shelter']\n"
     ]
    }
   ],
   "source": [
    "## What is this review with 1786 words long?\n",
    "print list(pos_data_df.reviews[pos_data_df.length > 1780])"
   ]
  },
  {
   "cell_type": "code",
   "execution_count": 68,
   "metadata": {},
   "outputs": [
    {
     "data": {
      "text/plain": [
       "count    2375.000000\n",
       "mean      189.916632\n",
       "std       182.257559\n",
       "min         0.000000\n",
       "25%        70.500000\n",
       "50%       138.000000\n",
       "75%       254.000000\n",
       "max      1784.000000\n",
       "Name: length, dtype: float64"
      ]
     },
     "execution_count": 68,
     "metadata": {},
     "output_type": "execute_result"
    }
   ],
   "source": [
    "neg_data_df.length.describe()"
   ]
  },
  {
   "cell_type": "code",
   "execution_count": 69,
   "metadata": {},
   "outputs": [
    {
     "name": "stdout",
     "output_type": "stream",
     "text": [
      "['spoke man morning ice covered parking lot sidewalk business liable customers someone slip fall due negligence business part told good luck liable careful everywhere icy two years gym fed way treat customers told fed since gave hard time towels weeks ago towels since never clean parking lot winter make sure wear boots outside crash car aside gym well gym biggest critic aside rude management negligence would encourage sanitization outside cardio room towels spray around weight machines never issue hate see happen always make sure least wipe sweat marks machine cause well pretty nasty pretty large terms size space anything aside ordinary weights cardio workers well mostly young really care much man told wrong older possibly manager owner tend keep top wash towels even busy pretty annoying cardio room always fox news two tvs middle tv sports center regardless else tv recently even putting pens games stuff must busy watching inch screen lobby workers cardio room max middle sides probably pay full price membership probably belong insurance said swipe card like people front machine behind counter one guy always shows helpful first time cause people always around front desk said standing behind chatting would expect since job gym nothing state art fancy fancy really need fancy looking gym cardio room pretty massive even peak hours never problem getting treadmill elliptical actually even two hellix trainers super common yet sometimes things go order take fix run owner manager one time bathroom someone let sink floor asked tell guys desk said oh useless gym makes killing classes b convenient c personal training separate company warrior fitness meaning sign trainer always see busy seem awesome helpful challenging sure separate yelp page would say seen bust ass sure']\n"
     ]
    }
   ],
   "source": [
    "## What is this negative review with 1786 words long?\n",
    "print list(neg_data_df.reviews[neg_data_df.length > 1780])"
   ]
  },
  {
   "cell_type": "code",
   "execution_count": 70,
   "metadata": {
    "collapsed": true
   },
   "outputs": [],
   "source": [
    "# Combine 2 dataframes\n",
    "data = pos_data_df.append(neg_data_df)"
   ]
  },
  {
   "cell_type": "code",
   "execution_count": null,
   "metadata": {
    "collapsed": true
   },
   "outputs": [],
   "source": []
  },
  {
   "cell_type": "code",
   "execution_count": 74,
   "metadata": {},
   "outputs": [
    {
     "data": {
      "text/plain": [
       "array([<matplotlib.axes._subplots.AxesSubplot object at 0x120b5a910>,\n",
       "       <matplotlib.axes._subplots.AxesSubplot object at 0x120b90d50>], dtype=object)"
      ]
     },
     "execution_count": 74,
     "metadata": {},
     "output_type": "execute_result"
    },
    {
     "data": {
      "image/png": "[encoded data removed]",
      "text/plain": [
       "<matplotlib.figure.Figure at 0x120b855d0>"
      ]
     },
     "metadata": {},
     "output_type": "display_data"
    }
   ],
   "source": [
    "# Compare the histograms by sentiment\n",
    "data.hist(column='length', by='sentiment', bins=10)"
   ]
  },
  {
   "cell_type": "code",
   "execution_count": 75,
   "metadata": {},
   "outputs": [
    {
     "name": "stdout",
     "output_type": "stream",
     "text": [
      "Creating the bag of words...\n",
      "\n"
     ]
    }
   ],
   "source": [
    "## Create the bag of words with 5000 features\n",
    "\n",
    "print \"Creating the bag of words...\\n\"\n",
    "from sklearn.feature_extraction.text import CountVectorizer\n",
    "# Initialize CountVectorizer object\n",
    "vectorizer = CountVectorizer(analyzer = 'word',     \\\n",
    "                             tokenizer = tokenize,      \\\n",
    "                             preprocessor = None,   \\\n",
    "                             stop_words = None,     \\\n",
    "                             max_features = 5000)"
   ]
  },
  {
   "cell_type": "code",
   "execution_count": 76,
   "metadata": {},
   "outputs": [
    {
     "name": "stdout",
     "output_type": "stream",
     "text": [
      "[u'aaa', u'aamco', u'aaron', u'ab', u'abandon', u'abd', u'abil', u'abl', u'abruptli', u'absolut', u'absorb', u'abund', u'abus', u'abysm', u'ac', u'accept', u'access', u'accessori', u'accid', u'accident', u'accommod', u'accomod', u'accompani', u'accomplish', u'accord', u'accordingli', u'account', u'accur', u'accus', u'ace', u'acid', u'acknowledg', u'acr', u'across', u'act', u'action', u'activ', u'actor', u'actual', u'ad', u'adam', u'add', u'addict', u'addit', u'address', u'adequ', u'adjac', u'adjust', u'admin', u'admir', u'admit', u'admittedli', u'adopt', u'ador', u'adt', u'adult', u'advanc', u'advantag', u'adventur', u'advers', u'advertis', u'advic', u'advis', u'affair', u'affect', u'afford', u'afraid', u'african', u'aftermarket', u'afternoon', u'afterward', u'age', u'agenc', u'agent', u'aggrav', u'aggress', u'ago', u'agre', u'ah', u'ahead', u'ahi', u'ahold', u'aid', u'aim', u'aime', u'aioli', u'air', u'airi', u'airlin', u'airport', u'aisl', u'aka', u'al', u'ala', u'alan', u'alarm', u'albeit', u'albert', u'album', u'alcohol', u'aldi', u'ale', u'alert', u'alexion', u'alfredo', u'align', u'alik', u'aliv', u'allegheni', u'allerg', u'allergi', u'alley', u'allison', u'allow', u'almond', u'almost', u'alon', u'along', u'aloo', u'alot', u'alreadi', u'alright', u'also', u'alter', u'altern', u'although', u'altogeth', u'aluminum', u'alway', u'amanda', u'amaz', u'amazingli', u'amazon', u'ambianc', u'ambienc', u'america', u'american', u'americana', u'americano', u'amerifit', u'ami', u'among', u'amongst', u'amount', u'amtrak', u'amus', u'anchovi', u'ancillari', u'andi', u'angel', u'angl', u'angri', u'anim', u'animalrescu', u'ann', u'anni', u'anniversari', u'announc', u'annoy', u'annual', u'anoth', u'answer', u'anthoni', u'anti', u'anticip', u'antiqu', u'anxieti', u'anybodi', u'anymor', u'anyon', u'anyth', u'anytim', u'anyway', u'anywher', u'apart', u'apathet', u'apolog', u'apologet', u'app', u'appal', u'appar', u'appeal', u'appear', u'appet', u'appetit', u'appl', u'applebe', u'appli', u'applianc', u'appoint', u'appreci', u'approach', u'appropri', u'approv', u'approxim', u'appt', u'apricot', u'april', u'ar', u'ararat', u'arbi', u'arcad', u'archaic', u'area', u'arent', u'argu', u'arguabl', u'argument', u'aris', u'arizona', u'arl', u'arlen', u'arm', u'armi', u'aroma', u'around', u'arrang', u'array', u'arriv', u'arrog', u'art', u'artichok', u'articl', u'artist', u'artsi', u'arugula', u'asap', u'ash', u'asham', u'ashley', u'asian', u'asid', u'ask', u'asleep', u'asparagu', u'aspect', u'ass', u'assembl', u'assert', u'assess', u'asset', u'asshol', u'assign', u'assist', u'associ', u'assort', u'assum', u'assur', u'astound', u'ate', u'athlet', u'atlant', u'atlanta', u'atleast', u'atm', u'atmo', u'atmospher', u'atria', u'atroci', u'attach', u'attack', u'attempt', u'attend', u'attent', u'attic', u'attir', u'attitud', u'attract', u'attribut', u'auction', u'audac', u'august', u'aunt', u'auschwitz', u'authent', u'author', u'auto', u'autom', u'automat', u'automot', u'autumn', u'ava', u'avail', u'avalon', u'ave', u'avenu', u'averag', u'avh', u'avid', u'avocado', u'avoid', u'aw', u'await', u'awar', u'award', u'away', u'awesom', u'awhil', u'awkward', u'awkwardli', u'b', u'baba', u'babi', u'back', u'background', u'backward', u'bacon', u'bad', u'badli', u'bado', u'baffl', u'bag', u'bagel', u'baguett', u'bake', u'bakeri', u'balanc', u'balconi', u'bald', u'ball', u'balloon', u'ballpark', u'baltimor', u'banana', u'band', u'bang', u'bank', u'banksvil', u'bar', u'barb', u'barbecu', u'barber', u'bare', u'bargain', u'barista', u'bark', u'barn', u'bartend', u'base', u'basebal', u'basement', u'bash', u'basi', u'basic', u'basil', u'basin', u'basket', u'basketbal', u'bass', u'basset', u'baston', u'bat', u'batch', u'batdorf', u'bath', u'bathroom', u'batter', u'batteri', u'baum', u'bay', u'bb', u'bbb', u'bbq', u'bc', u'be', u'beach', u'bead', u'bean', u'bear', u'beard', u'beat', u'beaten', u'beauti', u'beautician', u'becam', u'becasu', u'becki', u'becom', u'bed', u'bedbug', u'bedroom', u'bedsid', u'bee', u'beef', u'beer', u'beet', u'beforehand', u'beg', u'began', u'begin', u'begun', u'behav', u'behavior', u'behind', u'bekka', u'belay', u'belief', u'believ', u'bell', u'bellevu', u'bellhop', u'belli', u'bellisario', u'belong', u'belov', u'belt', u'ben', u'bench', u'bend', u'bender', u'beneath', u'benedum', u'benefit', u'benihana', u'berat', u'berri', u'besid', u'best', u'bet', u'bethani', u'bethel', u'beto', u'better', u'beverag', u'bewar', u'beyond', u'bf', u'bfast', u'bi', u'bias', u'bibl', u'bicycl', u'big', u'bigger', u'biggest', u'bike', u'bill', u'billi', u'bin', u'bird', u'birthday', u'biscuit', u'bishop', u'bisqu', u'bistro', u'bit', u'bitch', u'bite', u'bitter', u'bizarr', u'black', u'blacken', u'blade', u'blah', u'blame', u'bland', u'blank', u'blanket', u'blankli', u'blast', u'blatantli', u'blazer', u'bleach', u'bleed', u'blend', u'bless', u'blew', u'blind', u'blintz', u'blob', u'block', u'blog', u'blond', u'blood', u'bloodi', u'bloom', u'bloomfield', u'blossom', u'blow', u'blown', u'blt', u'blue', u'blueberri', u'blvd', u'bmw', u'boar', u'board', u'boast', u'bob', u'bobbi', u'bodi', u'boil', u'bold', u'bologna', u'bolognes', u'bolt', u'bomb', u'bomba', u'bond', u'bone', u'boneless', u'bonu', u'boo', u'book', u'boot', u'booth', u'booz', u'border', u'borderlin', u'bore', u'born', u'borough', u'boss', u'botch', u'bother', u'bottl', u'bottom', u'bought', u'boulder', u'bound', u'bounti', u'bouquet', u'bourbon', u'boutiqu', u'bowl', u'box', u'boy', u'boyfriend', u'br', u'bra', u'braddock', u'brag', u'brais', u'brake', u'branch', u'brand', u'brass', u'brat', u'brave', u'bravo', u'bread', u'breadstick', u'break', u'breaker', u'breakfast', u'breast', u'breath', u'breed', u'breez', u'bret', u'brew', u'brewer', u'breweri', u'brian', u'brick', u'bridal', u'bride', u'bridesmaid', u'brief', u'briefli', u'bright', u'brim', u'bring', u'brisket', u'bro', u'broadway', u'broccoli', u'brock', u'broke', u'broken', u'bronson', u'brook', u'broth', u'brother', u'brought', u'brown', u'browni', u'brows', u'bruce', u'brugg', u'brule', u'brunch', u'brunett', u'bruno', u'bruschetta', u'brush', u'brussel', u'bryant', u'bs', u'btu', u'btw', u'bu', u'bubbl', u'buck', u'bucket', u'buckl', u'bud', u'buddi', u'budget', u'buf', u'buff', u'buffalo', u'buffet', u'bug', u'build', u'built', u'bulb', u'bulk', u'bull', u'bullshit', u'bum', u'bumbl', u'bump', u'bumper', u'bun', u'bunch', u'bunni', u'burden', u'bureau', u'burgatori', u'burger', u'burgh', u'burn', u'burnt', u'burrito', u'burst', u'buse', u'buser', u'bush', u'busi', u'busier', u'buss', u'bust', u'buster', u'butcher', u'butler', u'butt', u'butter', u'buttercream', u'butterfli', u'butteri', u'butternut', u'button', u'buy', u'buyer', u'buzz', u'buzzer', u'bye', u'byo', u'byob', u'c', u'ca', u'cab', u'cabbag', u'cabinet', u'caesar', u'caf', u'cafe', u'cafeteria', u'caffein', u'cage', u'cain', u'cajun', u'cake', u'calabres', u'calamari', u'calcul', u'calib', u'california', u'call', u'calm', u'calori', u'calzon', u'came', u'camera', u'camp', u'campu', u'can', u'canada', u'cancel', u'cancer', u'candalina', u'candi', u'candl', u'cant', u'canva', u'cap', u'capabl', u'capac', u'caper', u'capit', u'cappuccino', u'capres', u'capri', u'car', u'caramel', u'carb', u'carbonara', u'card', u'cardboard', u'cardio', u'care', u'career', u'careless', u'carnegi', u'carolina', u'carpet', u'carri', u'carrot', u'cart', u'caruso', u'casa', u'casbah', u'case', u'casereccia', u'cash', u'cashier', u'cast', u'castello', u'casual', u'cat', u'catch', u'categori', u'cater', u'cathart', u'cathi', u'cathol', u'caught', u'cauliflow', u'caus', u'caution', u'cavatelli', u'cd', u'cedar', u'ceil', u'celebr', u'celebratori', u'celeri', u'celiac', u'cell', u'cellar', u'cement', u'cent', u'center', u'centerpiec', u'centr', u'central', u'centric', u'centuri', u'ceo', u'cereal', u'certain', u'certainli', u'certainti', u'certif', u'certifi', u'cesar', u'chaat', u'chai', u'chain', u'chair', u'chalk', u'chalkboard', u'challeng', u'chanc', u'chandeli', u'chang', u'channel', u'chao', u'char', u'charact', u'charg', u'chariti', u'charlott', u'charm', u'chart', u'chase', u'chat', u'cheap', u'cheapen', u'cheaper', u'cheapest', u'cheat', u'check', u'cheddar', u'cheer', u'chees', u'cheeseburg', u'cheesecak', u'cheesesteak', u'cheesi', u'chef', u'chemic', u'cherri', u'chestnut', u'chew', u'chewi', u'chi', u'chic', u'chicago', u'chichi', u'chick', u'chicken', u'chickpea', u'chihuahua', u'child', u'childhood', u'children', u'chilean', u'chili', u'chill', u'chilli', u'china', u'chines', u'chip', u'chipotl', u'chiropract', u'chiropractor', u'choc', u'chocol', u'chocolatey', u'choic', u'choir', u'choke', u'choos', u'chop', u'chose', u'chow', u'chowder', u'chri', u'chrissi', u'christma', u'christo', u'chronic', u'chunk', u'church', u'chutney', u'cider', u'cigarett', u'cilantro', u'cinnamon', u'cioppino', u'circl', u'circumst', u'cite', u'citi', u'citizen', u'cj', u'claim', u'clam', u'clarifi', u'clarion', u'class', u'classi', u'classic', u'clay', u'clean', u'cleaner', u'cleanli', u'clear', u'clearli', u'cleavag', u'clerk', u'cleveland', u'click', u'client', u'clientel', u'climb', u'climber', u'clinic', u'clip', u'clock', u'close', u'closer', u'closest', u'closet', u'cloth', u'club', u'clue', u'clueless', u'clump', u'cluster', u'cm', u'cmu', u'co', u'coach', u'coast', u'coat', u'cobbler', u'cocktail', u'coconut', u'cod', u'code', u'coffe', u'coffeehous', u'coincid', u'coincident', u'coke', u'cold', u'cole', u'coleslaw', u'collar', u'colleagu', u'collect', u'colleg', u'color', u'columbu', u'com', u'comb', u'combin', u'combo', u'come', u'comedian', u'comfi', u'comfort', u'comic', u'commemor', u'comment', u'commerci', u'commiss', u'commod', u'common', u'commun', u'commut', u'comp', u'compani', u'companion', u'compar', u'comparison', u'compens', u'compet', u'competit', u'complain', u'complaint', u'complement', u'complementari', u'complet', u'complex', u'complic', u'compliment', u'complimentari', u'compot', u'compound', u'comprehens', u'compusa', u'comput', u'con', u'concept', u'concern', u'concert', u'conclus', u'concoct', u'concur', u'condens', u'condescend', u'condescens', u'condiment', u'condit', u'condition', u'cone', u'confer', u'confid', u'confirm', u'confront', u'confus', u'congeal', u'congratul', u'connect', u'consciou', u'consid', u'consider', u'consist', u'consistantli', u'consol', u'constant', u'constantli', u'construct', u'consult', u'consum', u'contact', u'contain', u'content', u'contest', u'continu', u'contractor', u'contrari', u'contrast', u'contribut', u'control', u'conveni', u'convent', u'convers', u'convert', u'convey', u'convinc', u'cook', u'cooki', u'cool', u'coolant', u'cooler', u'coolest', u'coop', u'cooper', u'coordin', u'cope', u'copi', u'core', u'cork', u'corkag', u'corn', u'cornbread', u'corner', u'corp', u'corpor', u'correct', u'correctli', u'cost', u'costa', u'costco', u'costli', u'costum', u'cotta', u'cotton', u'cou', u'couch', u'cough', u'could', u'council', u'counselor', u'count', u'counter', u'counti', u'countless', u'countri', u'coupl', u'coupon', u'cours', u'court', u'courteou', u'courtesi', u'cousin', u'cover', u'coverag', u'covet', u'cow', u'cowork', u'cozi', u'crab', u'crack', u'cracker', u'craft', u'craig', u'craigslist', u'craisin', u'cram', u'cramp', u'cranberri', u'cranki', u'crap', u'crappi', u'crash', u'crave', u'crawl', u'crazi', u'cream', u'creami', u'creat', u'creation', u'creativ', u'credit', u'creepi', u'creme', u'crew', u'cri', u'crime', u'crisp', u'crispi', u'critic', u'croissant', u'crook', u'crosbi', u'cross', u'crowd', u'crude', u'cruelti', u'crumb', u'crumbl', u'crunch', u'crunchi', u'crush', u'crust', u'crusti', u'crystal', u'cucumb', u'cuisin', u'culinari', u'cultur', u'cup', u'cupcak', u'curb', u'curiou', u'curl', u'curli', u'current', u'curri', u'curs', u'curt', u'custom', u'cut', u'cute', u'cuticl', u'cuz', u'cv', u'cycl', u'cyclist', u'da', u'dad', u'dahlia', u'daili', u'dairi', u'dalla', u'damag', u'damn', u'dan', u'danc', u'danger', u'daniel', u'danish', u'dare', u'dark', u'darn', u'darren', u'date', u'daughter', u'dave', u'david', u'day', u'daylight', u'daytim', u'daze', u'dc', u'de', u'dead', u'deal', u'dealer', u'dealership', u'dealt', u'dear', u'death', u'debat', u'debit', u'dec', u'decad', u'decaf', u'decemb', u'decenc', u'decent', u'decept', u'decid', u'decis', u'deck', u'declaw', u'declin', u'decor', u'dedic', u'deduct', u'deep', u'deepli', u'def', u'defect', u'defens', u'defin', u'definit', u'degre', u'degress', u'dehydr', u'delay', u'delect', u'deli', u'deliber', u'delic', u'delici', u'delight', u'delish', u'deliv', u'deliveri', u'delux', u'demand', u'demonstr', u'deni', u'denni', u'dens', u'dent', u'dental', u'dentist', u'depart', u'depend', u'deplor', u'deposit', u'depot', u'depress', u'describ', u'descript', u'desert', u'deserv', u'design', u'desir', u'desk', u'desper', u'despit', u'dessert', u'destin', u'destroy', u'detail', u'detector', u'deter', u'determin', u'detract', u'develop', u'devoid', u'devour', u'di', u'diabet', u'diagnos', u'diagnosi', u'diagnost', u'dial', u'diamond', u'diavlo', u'dice', u'dick', u'didnt', u'die', u'diego', u'diet', u'dietari', u'differ', u'difficult', u'difficulti', u'dig', u'diiorio', u'dijon', u'dilig', u'dilorio', u'dilut', u'dime', u'din', u'dine', u'diner', u'ding', u'dingi', u'dinner', u'dip', u'dippi', u'direct', u'directli', u'director', u'dirt', u'dirti', u'disabl', u'disagre', u'disappear', u'disappoint', u'disast', u'disastr', u'discard', u'discomfort', u'disconnect', u'discount', u'discourag', u'discov', u'discuss', u'disdain', u'diseas', u'disgrac', u'disgruntl', u'disguis', u'disgust', u'dish', u'dishwash', u'disinterest', u'disjoint', u'dislik', u'dismal', u'dismiss', u'disorgan', u'display', u'displeas', u'displeasur', u'dispos', u'disposit', u'disput', u'disregard', u'disrespect', u'dissapoint', u'dissatisfi', u'disservic', u'distanc', u'distinct', u'distinguish', u'distract', u'distributor', u'district', u'disturb', u'dive', u'divers', u'divey', u'divin', u'diy', u'dj', u'dmv', u'doc', u'docent', u'dock', u'doctor', u'document', u'doesnt', u'dog', u'doggi', u'dollar', u'domest', u'domino', u'donat', u'done', u'donna', u'dont', u'donut', u'door', u'doorway', u'dope', u'doppio', u'dor', u'dormont', u'dot', u'doubl', u'doubletre', u'doubt', u'doug', u'dough', u'doughi', u'dous', u'down', u'downfal', u'downgrad', u'downhil', u'downright', u'downsid', u'downstair', u'downtown', u'dozen', u'dq', u'dr', u'drab', u'draft', u'drag', u'dragon', u'drain', u'drama', u'drank', u'draw', u'drawback', u'drawer', u'dread', u'dream', u'drench', u'dress', u'dresser', u'drew', u'dri', u'drill', u'drink', u'drinker', u'drip', u'drive', u'driven', u'driver', u'driveway', u'drizzl', u'drool', u'drop', u'drove', u'drown', u'drug', u'drunk', u'dryclean', u'dryer', u'duchess', u'duck', u'dude', u'due', u'duke', u'dull', u'dumb', u'dumbest', u'dump', u'dumpl', u'dun', u'dunk', u'dunno', u'duplic', u'durat', u'dust', u'dusti', u'duti', u'dvd', u'dy', u'dye', u'e', u'eager', u'eagerli', u'eagl', u'ear', u'earli', u'earlier', u'earliest', u'earn', u'earth', u'eas', u'easi', u'easier', u'easili', u'east', u'easter', u'eat', u'eaten', u'eater', u'eateri', u'echo', u'eclect', u'economi', u'ed', u'edamam', u'edg', u'edibl', u'edimam', u'edit', u'educ', u'eefc', u'ef', u'effect', u'effici', u'effort', u'egg', u'eggplant', u'eh', u'eight', u'either', u'el', u'elderli', u'electr', u'element', u'elev', u'eleven', u'elit', u'ellsworth', u'els', u'elsewher', u'elus', u'elysian', u'em', u'email', u'embarrass', u'emerg', u'emil', u'emiss', u'emot', u'empathet', u'empathi', u'employ', u'employe', u'empti', u'encount', u'encourag', u'end', u'endeavor', u'endless', u'endur', u'energi', u'enforc', u'engag', u'engin', u'enhanc', u'enjoy', u'enorm', u'enough', u'enrico', u'ensur', u'enter', u'enterpris', u'entertain', u'enthusiasm', u'enthusiast', u'entir', u'entitl', u'entr', u'entranc', u'entre', u'entri', u'entryway', u'environ', u'epic', u'epitom', u'equal', u'equip', u'er', u'era', u'eric', u'erma', u'error', u'escal', u'escap', u'especi', u'espn', u'espous', u'espresso', u'essenti', u'establish', u'estat', u'estim', u'etc', u'ethic', u'ethnic', u'europ', u'european', u'euthan', u'evalu', u'eve', u'even', u'event', u'eventu', u'ever', u'everi', u'everybodi', u'everyday', u'everyon', u'everyth', u'everywher', u'evolv', u'ew', u'ewww', u'ex', u'exact', u'exactli', u'exagger', u'exam', u'exampl', u'exceed', u'excel', u'except', u'exchang', u'excit', u'exclus', u'excus', u'execut', u'exemplari', u'exhaust', u'exhibit', u'exist', u'exit', u'exorbit', u'expand', u'expect', u'expens', u'experi', u'experienc', u'experiment', u'expert', u'expertis', u'expertli', u'expir', u'explain', u'explan', u'explod', u'explor', u'expos', u'express', u'exquisit', u'extend', u'extens', u'extent', u'exterior', u'extinguish', u'extra', u'extraordinari', u'extrem', u'eye', u'eyebrow', u'f', u'fab', u'fabric', u'fabul', u'face', u'facebook', u'facial', u'facil', u'fact', u'factor', u'factori', u'fade', u'fail', u'failur', u'fair', u'fairli', u'faith', u'fake', u'fall', u'fallen', u'fals', u'famili', u'familiar', u'famou', u'fan', u'fanci', u'fantast', u'far', u'fare', u'farm', u'farther', u'fashion', u'fast', u'faster', u'fastest', u'fat', u'father', u'fatti', u'fault', u'faulti', u'fav', u'fave', u'favor', u'favorit', u'fear', u'feast', u'featur', u'februari', u'fed', u'fee', u'feed', u'feel', u'feet', u'felin', u'fell', u'fellow', u'felt', u'femal', u'fender', u'fennel', u'fest', u'festiv', u'feta', u'fettuccin', u'fianc', u'fiance', u'fiction', u'field', u'fiend', u'fifteen', u'fifth', u'fig', u'fight', u'figur', u'file', u'filet', u'fill', u'filler', u'fillet', u'film', u'filth', u'filthi', u'filti', u'final', u'financi', u'find', u'fine', u'finest', u'finger', u'fingernail', u'finish', u'fiona', u'fiori', u'fire', u'firework', u'firm', u'firmli', u'first', u'firstli', u'fish', u'fishi', u'fist', u'fit', u'fitzgerald', u'five', u'fix', u'fixtur', u'fizz', u'flag', u'flame', u'flash', u'flat', u'flatbread', u'flavor', u'flavorless', u'flaw', u'flawless', u'flew', u'flexibl', u'fli', u'flick', u'flight', u'flinch', u'flip', u'float', u'flood', u'floor', u'floral', u'florentin', u'florida', u'florist', u'flour', u'flow', u'flower', u'flu', u'fluke', u'flynn', u'foam', u'focu', u'focus', u'fold', u'folk', u'follow', u'food', u'foodi', u'fool', u'foot', u'footbal', u'forc', u'foremost', u'forev', u'forewarn', u'forget', u'forgiv', u'forgiven', u'forgot', u'forgotten', u'fork', u'form', u'formal', u'former', u'forth', u'forti', u'fortun', u'forward', u'foster', u'fought', u'found', u'fountain', u'four', u'fourth', u'fox', u'fra', u'frame', u'francisco', u'franco', u'frank', u'frankli', u'franklin', u'frantic', u'fratern', u'freak', u'freakin', u'free', u'freez', u'freezer', u'french', u'frequenc', u'frequent', u'fresh', u'fresher', u'freshest', u'freshli', u'fri', u'frick', u'friday', u'fridg', u'friend', u'friendli', u'friendlier', u'friendliest', u'friendship', u'friggin', u'frighten', u'frill', u'front', u'frost', u'frosti', u'frown', u'frozen', u'fru', u'fruit', u'fruitcak', u'fruiti', u'frustrat', u'fryer', u'fryolat', u'fu', u'fuck', u'fudg', u'fulfil', u'full', u'fullest', u'fulli', u'fume', u'fun', u'function', u'fundrais', u'funer', u'funk', u'funki', u'funni', u'fur', u'furiou', u'furnish', u'furnitur', u'furri', u'furthermor', u'fuse', u'fuss', u'futur', u'fyi', u'g', u'ga', u'gab', u'gag', u'gain', u'gal', u'galardi', u'galleri', u'gallon', u'game', u'gang', u'gangster', u'garag', u'garbag', u'garden', u'garlic', u'garlicki', u'garnish', u'gasket', u'gate', u'gateway', u'gather', u'gave', u'gazpacho', u'ge', u'gear', u'geico', u'gel', u'gelatin', u'gelato', u'gem', u'gender', u'gener', u'generos', u'geno', u'genr', u'gent', u'gentl', u'gentleman', u'gentli', u'genuin', u'german', u'germani', u'gestur', u'get', u'getgo', u'gf', u'ghetto', u'ghost', u'giant', u'gift', u'gig', u'gigant', u'giggl', u'gimmick', u'gin', u'ginger', u'giraff', u'girl', u'girlfriend', u'give', u'given', u'glad', u'gladli', u'glamor', u'glare', u'glass', u'glen', u'glenn', u'glorifi', u'gloriou', u'glove', u'glow', u'glue', u'gluten', u'gnat', u'gnocchi', u'gnudi', u'go', u'goal', u'goat', u'god', u'godsend', u'goe', u'gold', u'golden', u'gon', u'gone', u'goo', u'good', u'goodby', u'goodi', u'goodwil', u'goodyear', u'googl', u'gordon', u'gorgeou', u'gosh', u'got', u'gotten', u'gouda', u'gourmet', u'gp', u'grab', u'grace', u'graciou', u'grade', u'graduat', u'graham', u'grail', u'grain', u'grand', u'grandfath', u'grandma', u'grandmoth', u'grandpar', u'granola', u'grant', u'grape', u'grapefruit', u'grass', u'grat', u'grate', u'gratuiti', u'grave', u'gravi', u'greas', u'greasi', u'great', u'greater', u'greatest', u'greatli', u'greco', u'greek', u'green', u'greenfield', u'greenhous', u'greentre', u'greet', u'greeter', u'greetre', u'grew', u'grey', u'gri', u'griddl', u'grief', u'grigio', u'grill', u'grimey', u'grimi', u'gripe', u'gristl', u'grit', u'gritti', u'grocer', u'groceri', u'groom', u'groomer', u'groomsman', u'groomsmen', u'gross', u'grossli', u'ground', u'group', u'groupon', u'grow', u'grown', u'growth', u'grub', u'grubhub', u'grudgingli', u'grumpi', u'guacamol', u'guarante', u'guard', u'guess', u'guest', u'guid', u'guidanc', u'guidelin', u'guilti', u'gum', u'gumbo', u'gummi', u'gun', u'gusta', u'gusto', u'gut', u'guy', u'gym', u'gyro', u'h', u'ha', u'haha', u'hair', u'haircut', u'hairdo', u'hairdress', u'hairspray', u'half', u'halfway', u'halibut', u'hall', u'halli', u'hallway', u'halsband', u'haluski', u'ham', u'hamburg', u'hand', u'handbag', u'handi', u'handicap', u'handl', u'handmad', u'handsom', u'hang', u'hanger', u'hangov', u'happen', u'happey', u'happi', u'happier', u'happili', u'harass', u'hard', u'harder', u'hardli', u'hardship', u'hardwar', u'harmoni', u'harsh', u'harvest', u'harvey', u'hash', u'hassl', u'hat', u'hate', u'haul', u'hawaii', u'hazelnut', u'hd', u'head', u'headach', u'headlight', u'heal', u'health', u'healthi', u'healthier', u'heap', u'hear', u'heard', u'heart', u'heartbeat', u'heartfelt', u'hearti', u'heat', u'heater', u'heaven', u'heavenli', u'heavi', u'heavili', u'heck', u'heed', u'heel', u'height', u'heinz', u'heirloom', u'held', u'hell', u'hello', u'helmet', u'help', u'hem', u'henc', u'herb', u'herbert', u'herp', u'hesit', u'hey', u'hh', u'hi', u'hibachi', u'hickori', u'hid', u'hidden', u'hide', u'hideou', u'high', u'higher', u'highest', u'highland', u'highli', u'highlight', u'highway', u'hike', u'hilari', u'hill', u'hindsight', u'hing', u'hint', u'hip', u'hippi', u'hipster', u'hire', u'histor', u'histori', u'hit', u'hitch', u'hoagi', u'hockey', u'hold', u'holder', u'hole', u'holi', u'holiday', u'home', u'homefri', u'homeless', u'homemad', u'homestead', u'hometown', u'homey', u'honda', u'honest', u'honesti', u'honestli', u'honey', u'honor', u'hood', u'hoodi', u'hook', u'hooter', u'hop', u'hope', u'horrend', u'horribl', u'horrid', u'horrif', u'horrifi', u'horror', u'horseradish', u'hose', u'hospit', u'host', u'hostess', u'hostil', u'hot', u'hotdog', u'hotel', u'houlihan', u'hour', u'hous', u'household', u'howev', u'howl', u'hr', u'hte', u'http', u'hub', u'hubbi', u'hug', u'huge', u'huh', u'human', u'humbl', u'humili', u'hummu', u'humong', u'humor', u'hundr', u'hung', u'hungri', u'hunt', u'hurri', u'hurt', u'husband', u'hut', u'hygienist', u'hype', u'hyperbol', u'ice', u'iceberg', u'ichiban', u'ici', u'id', u'idea', u'ideal', u'identifi', u'idiot', u'ie', u'ignor', u'ikea', u'ill', u'illinoi', u'im', u'imagin', u'imho', u'imit', u'immedi', u'immens', u'immigr', u'impecc', u'import', u'importantli', u'imposs', u'impress', u'improv', u'inappropri', u'inattent', u'incap', u'inch', u'incid', u'includ', u'incompar', u'incompet', u'inconsist', u'inconveni', u'inconvenienc', u'incorrect', u'incorrectli', u'increas', u'incred', u'incredul', u'inde', u'indecis', u'independ', u'indi', u'india', u'indian', u'indic', u'indiffer', u'individu', u'indoor', u'indulg', u'industri', u'ined', u'ineffici', u'inept', u'inevit', u'inexpens', u'infect', u'infest', u'inflat', u'info', u'inform', u'infront', u'ing', u'ingredi', u'initi', u'injuri', u'ink', u'inn', u'innoc', u'input', u'inquir', u'insan', u'insert', u'insid', u'insist', u'inspect', u'inspir', u'instal', u'instanc', u'instant', u'instantli', u'instead', u'instruct', u'instructor', u'insult', u'insur', u'integr', u'intend', u'intens', u'intent', u'interact', u'interest', u'interior', u'intermiss', u'intern', u'internet', u'interrupt', u'intersect', u'intervent', u'interview', u'intim', u'intimid', u'introduc', u'intrus', u'invalu', u'invent', u'inventori', u'invest', u'invit', u'invoic', u'involv', u'ipa', u'irish', u'iron', u'irrespons', u'irrit', u'isaac', u'ish', u'isl', u'island', u'isnt', u'issu', u'itali', u'italian', u'itch', u'item', u'ive', u'izzazu', u'j', u'jack', u'jacket', u'jacki', u'jackson', u'jalap', u'jalapeno', u'jam', u'januari', u'japanes', u'jar', u'jazz', u'jean', u'jeep', u'jerk', u'jersey', u'jessica', u'jesu', u'jet', u'jewelri', u'jewish', u'jim', u'jitney', u'jj', u'jo', u'job', u'jobsit', u'joe', u'joey', u'john', u'join', u'joint', u'joke', u'joseph', u'journey', u'joy', u'ju', u'juan', u'judg', u'judgment', u'judi', u'juic', u'juicer', u'juici', u'juli', u'jumbo', u'jump', u'junction', u'june', u'junk', u'justifi', u'justin', u'k', u'kabob', u'kaiser', u'kale', u'kamin', u'katerbean', u'kati', u'kaya', u'keep', u'kelley', u'kelli', u'kennedi', u'kennel', u'kenni', u'kennywood', u'kept', u'kerastas', u'ketchup', u'kevin', u'key', u'kick', u'kickass', u'kicker', u'kid', u'kiddi', u'kidney', u'kielbasa', u'kill', u'killer', u'kim', u'kind', u'kinda', u'kindli', u'king', u'kiss', u'kitchen', u'kitten', u'kitti', u'kmart', u'knee', u'knew', u'knife', u'knit', u'knob', u'knock', u'know', u'knowledg', u'known', u'kofta', u'korean', u'kraut', u'kristi', u'kudo', u'kuhn', u'kung', u'kurt', u'l', u'la', u'label', u'labor', u'lack', u'lacklust', u'ladi', u'ladl', u'lager', u'lai', u'laid', u'lamb', u'lame', u'lament', u'lamp', u'land', u'landlord', u'lane', u'languag', u'laptop', u'larg', u'larger', u'largest', u'larri', u'lasagna', u'last', u'late', u'later', u'latest', u'latk', u'latt', u'laugh', u'laughabl', u'launder', u'laundri', u'lauren', u'law', u'lawn', u'lawrencevil', u'lawyer', u'lay', u'layer', u'layout', u'lazi', u'lb', u'lead', u'leagu', u'leak', u'lean', u'leap', u'learn', u'leas', u'leash', u'least', u'leather', u'leav', u'lech', u'lectur', u'led', u'lee', u'left', u'leftov', u'leg', u'legal', u'legit', u'legitim', u'leisur', u'lemon', u'lemonad', u'lemoni', u'len', u'length', u'lent', u'lentil', u'less', u'lesson', u'let', u'letter', u'lettuc', u'level', u'liabl', u'liar', u'liberti', u'librari', u'licens', u'lick', u'lid', u'lidia', u'lie', u'life', u'lift', u'light', u'lighter', u'lightli', u'like', u'lil', u'lili', u'lime', u'limit', u'limp', u'limpest', u'lincoln', u'linda', u'line', u'linen', u'linger', u'link', u'liquor', u'lisa', u'list', u'listen', u'lit', u'lite', u'liter', u'litter', u'littl', u'live', u'liver', u'liz', u'lme', u'lo', u'load', u'loaf', u'loath', u'loav', u'lobbi', u'lobster', u'local', u'locat', u'lock', u'locker', u'locksmith', u'loft', u'logic', u'login', u'logo', u'loin', u'lol', u'long', u'longer', u'look', u'loos', u'looser', u'lord', u'lose', u'loser', u'loss', u'lost', u'lot', u'lotion', u'lotteri', u'loud', u'loudli', u'loui', u'louie', u'loung', u'lousi', u'love', u'lover', u'low', u'lower', u'lowest', u'loyal', u'loyalti', u'luck', u'lucki', u'luckili', u'ludwig', u'lug', u'luggag', u'luigi', u'luke', u'lukewarm', u'lulu', u'lumber', u'lump', u'lumpi', u'lunch', u'lunchabl', u'lunchtim', u'lung', u'lure', u'luster', u'luxuri', u'mac', u'macaron', u'macaroni', u'macaroon', u'machin', u'maci', u'mad', u'made', u'magazin', u'magic', u'mahi', u'mahoney', u'maid', u'mail', u'main', u'mainli', u'maintain', u'mainten', u'maitr', u'major', u'majorli', u'make', u'makeup', u'malai', u'malbec', u'male', u'malfunct', u'mall', u'man', u'manag', u'mancini', u'mane', u'manger', u'manhattan', u'mani', u'manicur', u'manifold', u'mann', u'manner', u'manor', u'mantl', u'manual', u'manufactur', u'map', u'maputo', u'marbl', u'marc', u'march', u'marg', u'margarin', u'margarita', u'mari', u'marin', u'marinara', u'mark', u'marker', u'market', u'marri', u'marriott', u'marsala', u'marshal', u'marshmallow', u'mart', u'martini', u'marvel', u'mascot', u'mash', u'mason', u'mass', u'massag', u'massiv', u'master', u'masterpiec', u'mat', u'match', u'materi', u'matt', u'matter', u'mattress', u'matur', u'max', u'maxima', u'maximum', u'may', u'mayb', u'mayo', u'mayonnais', u'mc', u'mcd', u'mcdonald', u'mckee', u'mcn', u'meager', u'meal', u'meali', u'mean', u'meant', u'meantim', u'meanwhil', u'measur', u'meat', u'meatbal', u'meati', u'mecca', u'mechan', u'medic', u'mediocr', u'mediterranean', u'medium', u'medley', u'meet', u'mega', u'meh', u'mein', u'meld', u'melita', u'mellon', u'mellow', u'melt', u'member', u'membership', u'memor', u'memori', u'men', u'mental', u'mention', u'menu', u'merchandis', u'meri', u'mess', u'messag', u'messi', u'met', u'metal', u'meter', u'method', u'metro', u'mex', u'mexican', u'mexico', u'meyer', u'mi', u'miami', u'mic', u'michael', u'michel', u'microchip', u'microwav', u'mid', u'mida', u'middl', u'midnight', u'might', u'mighti', u'mignon', u'migrain', u'mike', u'milano', u'mild', u'mildew', u'mildli', u'mile', u'militari', u'milk', u'milkshak', u'mill', u'million', u'mimosa', u'min', u'minc', u'mind', u'mine', u'minerva', u'mingl', u'mini', u'minim', u'minimum', u'minor', u'mint', u'minu', u'minuscul', u'minut', u'mirror', u'miscommun', u'miser', u'misfortun', u'mishap', u'mislead', u'miso', u'miss', u'mission', u'mistak', u'mistakenli', u'mitchel', u'mix', u'mixtur', u'mocha', u'mock', u'model', u'moder', u'modern', u'modest', u'moist', u'mojito', u'mold', u'moldi', u'mole', u'molli', u'mom', u'moment', u'mon', u'monday', u'money', u'monger', u'monitor', u'monoton', u'monro', u'monroevil', u'monster', u'monstros', u'month', u'moo', u'mood', u'moon', u'moor', u'moos', u'mop', u'moral', u'moreov', u'morn', u'moron', u'morton', u'mostli', u'motel', u'mother', u'motor', u'mound', u'mountain', u'mouss', u'mouth', u'move', u'movi', u'mozzarella', u'mph', u'mr', u'msg', u'mt', u'much', u'muddl', u'muffin', u'muffler', u'mug', u'mullet', u'multi', u'multipl', u'mumbl', u'munch', u'murder', u'murphi', u'muscl', u'museum', u'mush', u'mushi', u'mushroom', u'music', u'mussel', u'must', u'mustard', u'muster', u'mute', u'mutter', u'mw', u'myron', u'mysteri', u'n', u'na', u'nacho', u'nail', u'nake', u'namast', u'name', u'napkin', u'narrow', u'nasti', u'nation', u'nationwid', u'nativ', u'natur', u'navi', u'nd', u'near', u'nearbi', u'nearli', u'neat', u'necessari', u'necessarili', u'neck', u'need', u'needless', u'neg', u'neglect', u'negley', u'neglig', u'neighbor', u'neighborhood', u'neither', u'neon', u'nerv', u'nervou', u'nestl', u'network', u'neuter', u'never', u'new', u'newcom', u'newer', u'news', u'next', u'nibbl', u'nice', u'nicer', u'nicest', u'nichola', u'nick', u'nickel', u'nicknam', u'niec', u'night', u'nightmar', u'nine', u'nite', u'nobl', u'nobodi', u'noir', u'nois', u'noisi', u'non', u'none', u'nonetheless', u'noodl', u'noon', u'nope', u'norfolk', u'norm', u'normal', u'north', u'northern', u'nose', u'nosed', u'nostalgia', u'not', u'notabl', u'notch', u'note', u'noth', u'nothin', u'notic', u'notif', u'notifi', u'notori', u'novel', u'novic', u'nowher', u'ntb', u'nugget', u'number', u'numer', u'nurs', u'nut', u'nutella', u'ny', u'nyc', u'oakland', u'oasi', u'obama', u'object', u'oblig', u'oblivi', u'obnoxi', u'observ', u'obviou', u'obvious', u'occas', u'occasion', u'occass', u'occup', u'occupi', u'occur', u'octob', u'octopu', u'odd', u'oddli', u'offend', u'offens', u'offer', u'offic', u'offici', u'ofm', u'often', u'oh', u'ohio', u'oil', u'oili', u'oj', u'ok', u'okay', u'oktoberfest', u'old', u'older', u'oliv', u'olympia', u'omelet', u'omelett', u'omg', u'omlet', u'one', u'onion', u'onlin', u'onto', u'oop', u'ooz', u'op', u'open', u'oper', u'opinion', u'opportun', u'oppos', u'opposit', u'opt', u'optim', u'option', u'oral', u'orang', u'ordeal', u'order', u'ordinari', u'orecchiett', u'oregano', u'org', u'organ', u'orient', u'origin', u'orlando', u'ornament', u'oro', u'other', u'otherwis', u'outback', u'outdat', u'outdoor', u'outfit', u'outlet', u'outrag', u'outright', u'outsid', u'outstand', u'outta', u'oven', u'overal', u'overbear', u'overbook', u'overcharg', u'overcom', u'overcook', u'overcrowd', u'overdon', u'overdu', u'overflow', u'overhang', u'overhead', u'overhear', u'overheard', u'overli', u'overlook', u'overnight', u'overpow', u'overpr', u'overr', u'oversalt', u'overweight', u'overwhelm', u'owe', u'own', u'owner', u'ownership', u'oxygen', u'oyster', u'oz', u'p', u'pa', u'pace', u'pack', u'packag', u'paco', u'pad', u'page', u'pai', u'paid', u'pain', u'painless', u'paint', u'pair', u'palac', u'palat', u'pale', u'pan', u'pancak', u'pancetta', u'panel', u'panera', u'panini', u'panna', u'pant', u'pao', u'papa', u'paper', u'paperwork', u'par', u'parent', u'park', u'parm', u'parma', u'parmesan', u'parsnip', u'part', u'parti', u'partial', u'particip', u'particular', u'particularli', u'partner', u'paso', u'pass', u'passabl', u'passion', u'past', u'pasta', u'pastafest', u'pastrami', u'pastri', u'pat', u'patch', u'path', u'pathet', u'patienc', u'patient', u'patio', u'patrick', u'patron', u'pattern', u'patti', u'paul', u'paw', u'pay', u'paycheck', u'payment', u'pb', u'pea', u'peac', u'peach', u'peak', u'peanut', u'pear', u'pecan', u'pedestrian', u'pedi', u'pedicur', u'pee', u'peek', u'peel', u'peep', u'peer', u'peirogi', u'pen', u'pencil', u'pendant', u'penguin', u'penn', u'penni', u'pennsylvania', u'pennsylvanian', u'peoni', u'peopl', u'pep', u'pepper', u'pepperoni', u'peppi', u'pepsi', u'per', u'percentag', u'perfect', u'perfectli', u'perfectta', u'perform', u'perhap', u'peri', u'perimet', u'period', u'perk', u'perla', u'perman', u'permit', u'person', u'personnel', u'perspect', u'perus', u'pest', u'pesto', u'pet', u'petco', u'petit', u'pf', u'pfennig', u'pgh', u'phantom', u'pharmaci', u'pharmacist', u'pharmor', u'phenomen', u'philli', u'phone', u'photo', u'photograph', u'physic', u'piano', u'pic', u'picatta', u'piccola', u'piccolo', u'pick', u'picki', u'pickl', u'pickup', u'picnic', u'pictur', u'pie', u'piec', u'pierc', u'pierogi', u'pile', u'pillow', u'pin', u'pinbal', u'pinch', u'pineappl', u'pink', u'pino', u'pinot', u'pint', u'pipe', u'pirat', u'piri', u'piss', u'pistachio', u'pistella', u'pit', u'pita', u'pitch', u'piti', u'pitt', u'pittsburg', u'pittsburgh', u'pizza', u'pizzeria', u'place', u'placement', u'plagu', u'plain', u'plan', u'plane', u'planet', u'plank', u'plant', u'plaster', u'plastic', u'plate', u'platter', u'play', u'plead', u'pleas', u'pleasant', u'pleasantli', u'pleasur', u'pledg', u'plenti', u'plu', u'plug', u'plum', u'plumb', u'plunger', u'plywood', u'pm', u'pnc', u'po', u'poach', u'pocket', u'point', u'pointer', u'pointless', u'poison', u'poke', u'polenta', u'polic', u'polici', u'polish', u'polit', u'pollut', u'pool', u'poor', u'poorli', u'pop', u'popular', u'porch', u'pork', u'port', u'portion', u'portrait', u'portug', u'portugues', u'posit', u'possibl', u'post', u'poster', u'pot', u'potato', u'potenti', u'pothol', u'potomac', u'pound', u'poupon', u'pour', u'powder', u'power', u'ppl', u'practic', u'prais', u'pre', u'preach', u'preced', u'preciou', u'predict', u'prefer', u'pregnant', u'preliminari', u'premad', u'premis', u'premium', u'prep', u'prepackag', u'prepar', u'prepay', u'prescrib', u'prescript', u'presenc', u'present', u'presid', u'press', u'pressur', u'presum', u'pretend', u'pretenti', u'pretti', u'pretzel', u'prevent', u'previou', u'previous', u'prey', u'price', u'priceless', u'pricey', u'pride', u'primanti', u'prime', u'princess', u'principl', u'print', u'prior', u'priori', u'prison', u'privat', u'prix', u'prize', u'pro', u'probabl', u'problem', u'proce', u'procedur', u'proceed', u'process', u'proclaim', u'prod', u'produc', u'product', u'profession', u'profit', u'program', u'progress', u'project', u'promis', u'promot', u'prompt', u'promptli', u'proof', u'prop', u'proper', u'properli', u'properti', u'proprietor', u'prosecco', u'protect', u'protein', u'proud', u'prove', u'provid', u'provolon', u'proxim', u'ps', u'pub', u'public', u'publicli', u'puck', u'pud', u'puf', u'puff', u'pull', u'pump', u'pumpkin', u'pun', u'pup', u'puppi', u'purchas', u'pure', u'purpl', u'purpos', u'push', u'pushi', u'put', u'qhf', u'qs', u'quahog', u'quail', u'quaint', u'qualifi', u'qualiti', u'quantiti', u'quarter', u'quesadilla', u'queso', u'quest', u'question', u'quich', u'quick', u'quickli', u'quiet', u'quieter', u'quietli', u'quirk', u'quit', u'quot', u'r', u'rabbit', u'raccoon', u'race', u'racer', u'rachel', u'racist', u'rack', u'rag', u'rage', u'ragu', u'rail', u'rain', u'rainbow', u'raini', u'rais', u'raisin', u'ralph', u'ramon', u'ramp', u'ramsey', u'ran', u'ranch', u'ranchero', u'randi', u'random', u'randomli', u'rang', u'rangoon', u'rank', u'rankin', u'rant', u'rare', u'raspberri', u'rat', u'rate', u'rather', u'ratio', u'ratti', u'rav', u'rave', u'ravioli', u'raw', u'ray', u'rb', u'rd', u'reach', u'reaction', u'read', u'readi', u'real', u'realist', u'realiti', u'realiz', u'realli', u'realti', u'rear', u'reason', u'reassur', u'rebuilt', u'recal', u'reccommend', u'receipt', u'receiv', u'recent', u'recept', u'receptionist', u'reciev', u'recip', u'recogn', u'recognit', u'recomend', u'recommend', u'reconsid', u'record', u'recycl', u'red', u'redbox', u'redeem', u'redfin', u'redo', u'redon', u'reduc', u'reek', u'refer', u'refil', u'reflect', u'refresh', u'refriger', u'refund', u'refus', u'regard', u'regardless', u'regenc', u'regent', u'region', u'regist', u'registr', u'regret', u'regular', u'regularli', u'rehears', u'reheat', u'reimburs', u'reiter', u'rel', u'relat', u'relationship', u'relax', u'releas', u'relev', u'reliabl', u'relic', u'relief', u'reliev', u'reloc', u'reluct', u'remain', u'remark', u'remedi', u'rememb', u'remind', u'reminisc', u'remodel', u'remot', u'remov', u'renaiss', u'renew', u'renov', u'rent', u'rental', u'reorder', u'rep', u'repaint', u'repair', u'repeat', u'repeatedli', u'replac', u'repli', u'report', u'repres', u'republ', u'reput', u'request', u'requir', u'reschedul', u'rescu', u'research', u'resembl', u'resent', u'reserv', u'reset', u'resid', u'residenti', u'resolv', u'resort', u'respect', u'respond', u'respons', u'rest', u'restaraunt', u'restauarnt', u'restaur', u'restor', u'restraint', u'restrict', u'restroom', u'restur', u'result', u'retail', u'rethink', u'retir', u'retract', u'retriev', u'retta', u'return', u'reuben', u'reuther', u'reveal', u'revers', u'review', u'rewarm', u'rewrap', u'reyna', u'rib', u'ribbon', u'ricci', u'rice', u'rich', u'rick', u'ricotta', u'rid', u'ride', u'rider', u'ridicul', u'rigatoni', u'right', u'rim', u'ring', u'rip', u'ripe', u'ripoff', u'rise', u'risk', u'risotto', u'rite', u'river', u'riverview', u'roach', u'road', u'roast', u'rob', u'robert', u'robinson', u'rocco', u'rock', u'rocki', u'rockwel', u'roland', u'role', u'roll', u'rollatini', u'rollaway', u'romain', u'romant', u'ron', u'roof', u'room', u'roommat', u'root', u'rope', u'rose', u'rosemari', u'ross', u'rossi', u'rot', u'rotat', u'rotor', u'rotten', u'rough', u'round', u'rout', u'routin', u'row', u'rpm', u'ru', u'rub', u'rubber', u'rubberi', u'rude', u'rudest', u'ruin', u'rule', u'rumor', u'run', u'rundown', u'rung', u'runner', u'runni', u'rush', u'russet', u'ruth', u'rye', u'sad', u'sadli', u'safe', u'safeti', u'saganaki', u'sage', u'said', u'saint', u'sake', u'salad', u'sale', u'salesclerk', u'salesman', u'salisburi', u'salmon', u'salon', u'salsa', u'salt', u'salti', u'salumi', u'salvag', u'sam', u'samard', u'sammi', u'sammich', u'samosa', u'sampl', u'sampler', u'san', u'sanctuari', u'sandcastl', u'sandwich', u'sangria', u'sanit', u'sanitari', u'santa', u'sapporo', u'sarah', u'saran', u'sarcast', u'sardin', u'sashimi', u'sat', u'satisfact', u'satisfactori', u'satisfi', u'saturday', u'sauc', u'sauerkraut', u'sausag', u'saut', u'saute', u'save', u'saver', u'savor', u'savori', u'savvi', u'saw', u'say', u'scald', u'scale', u'scallion', u'scallop', u'scam', u'scan', u'scarc', u'scare', u'scarf', u'scari', u'scaveng', u'scene', u'scent', u'schedul', u'schnauzer', u'schnitzel', u'school', u'scissor', u'scof', u'scone', u'scoop', u'scooter', u'score', u'scotch', u'scotland', u'scottish', u'scrambl', u'scratch', u'scratchi', u'scream', u'screech', u'screen', u'screw', u'scrip', u'scrub', u'sculptur', u'scum', u'sea', u'seafood', u'seagl', u'seal', u'seamlessli', u'sean', u'sear', u'search', u'season', u'seat', u'seatbelt', u'seattl', u'seback', u'sebak', u'second', u'secondli', u'secret', u'section', u'secur', u'see', u'seed', u'seek', u'seem', u'seemingli', u'seen', u'segal', u'seinfeld', u'seisag', u'select', u'self', u'sell', u'seller', u'semi', u'send', u'senior', u'sens', u'sensat', u'sensor', u'sent', u'sentenc', u'sentiment', u'separ', u'septemb', u'seren', u'seri', u'seriou', u'serious', u'serta', u'serv', u'server', u'servic', u'sesam', u'session', u'set', u'settl', u'seven', u'sever', u'sewer', u'sewickley', u'sf', u'sh', u'shabbi', u'shack', u'shade', u'shadi', u'shadow', u'shadysid', u'shaft', u'shake', u'shall', u'shame', u'shampoo', u'shanghai', u'shank', u'shape', u'share', u'sharp', u'sharpi', u'shave', u'shed', u'sheep', u'sheer', u'sheesh', u'sheet', u'shelf', u'shell', u'shellac', u'shellfish', u'shelter', u'shelv', u'sheriff', u'sherri', u'shi', u'shift', u'shifter', u'shine', u'ship', u'shipment', u'shirt', u'shit', u'shitti', u'shock', u'shockingli', u'shoddi', u'shoe', u'shook', u'shoot', u'shop', u'shopper', u'shore', u'short', u'shortag', u'shorten', u'shorter', u'shortli', u'shot', u'shoulder', u'shout', u'show', u'shower', u'shown', u'shred', u'shriek', u'shrimp', u'shrug', u'shrunk', u'shuffl', u'shut', u'shuttl', u'sicilian', u'sick', u'side', u'sidewalk', u'sift', u'sigh', u'sight', u'sign', u'signag', u'signal', u'signatur', u'signific', u'significantli', u'sil', u'silk', u'silli', u'silver', u'silverwar', u'simard', u'similar', u'simpl', u'simpli', u'sinc', u'sincer', u'sinewi', u'sing', u'singer', u'singl', u'sings', u'sink', u'sip', u'sirloin', u'sister', u'sit', u'site', u'situat', u'six', u'sixth', u'size', u'sizzl', u'skeptic', u'sketchi', u'skill', u'skillet', u'skim', u'skimpi', u'skin', u'skip', u'skirt', u'sky', u'slab', u'slack', u'slam', u'slap', u'slash', u'slasher', u'slather', u'slaw', u'sleep', u'sleev', u'slice', u'slide', u'slider', u'slight', u'slightli', u'slimi', u'slip', u'sliver', u'slop', u'slope', u'sloppi', u'slow', u'slower', u'slowest', u'slowli', u'slum', u'slumlord', u'small', u'smaller', u'smallman', u'smart', u'smash', u'smear', u'smell', u'smelli', u'smelt', u'smh', u'smile', u'smiley', u'smoke', u'smoker', u'smooth', u'smoothi', u'smoothli', u'smother', u'smriti', u'smth', u'snack', u'snag', u'snap', u'snarki', u'sneer', u'sniff', u'snob', u'snotti', u'snow', u'snowi', u'soak', u'soap', u'social', u'societi', u'sock', u'soda', u'soft', u'soften', u'soggi', u'soho', u'sol', u'sola', u'sold', u'sole', u'solid', u'solo', u'solut', u'somebodi', u'somehow', u'someon', u'someplac', u'someth', u'sometim', u'somewhat', u'somewher', u'son', u'song', u'sonoma', u'soon', u'sooner', u'sooo', u'soooo', u'sooooo', u'sop', u'sophist', u'sorbet', u'sore', u'sorri', u'sort', u'soul', u'sound', u'soup', u'sour', u'sourc', u'sourdough', u'south', u'southern', u'soy', u'spa', u'space', u'spaciou', u'spade', u'spaghetti', u'spain', u'spare', u'spars', u'speak', u'speaker', u'special', u'specialti', u'specif', u'specifi', u'spectacular', u'speech', u'speed', u'speedi', u'spell', u'spend', u'spent', u'spice', u'spici', u'spill', u'spinach', u'spirit', u'spit', u'splash', u'splatter', u'split', u'splurg', u'spoil', u'spoke', u'spoken', u'spoon', u'sport', u'spot', u'spotless', u'spray', u'spread', u'spring', u'sprite', u'spro', u'sprout', u'sprung', u'squar', u'squash', u'squeez', u'squid', u'squirrel', u'st', u'stack', u'stadium', u'staf', u'staff', u'stage', u'stain', u'stainless', u'stair', u'staircas', u'stale', u'stall', u'stamina', u'stan', u'stand', u'standard', u'stapl', u'star', u'starbuck', u'stare', u'start', u'starter', u'starv', u'stat', u'state', u'statement', u'station', u'statu', u'stay', u'steak', u'steakhous', u'steal', u'steam', u'steel', u'steeler', u'steep', u'steer', u'stellar', u'stem', u'step', u'steril', u'stew', u'stick', u'sticker', u'sticki', u'still', u'stink', u'stitch', u'stock', u'stole', u'stolen', u'stomach', u'stomp', u'stone', u'stood', u'stool', u'stop', u'storag', u'store', u'stori', u'storm', u'stout', u'straight', u'straightforward', u'strang', u'strap', u'strata', u'straw', u'strawberri', u'strayhorn', u'stream', u'street', u'strength', u'stress', u'stretch', u'strictli', u'strike', u'string', u'strip', u'stroll', u'strong', u'stronger', u'strongest', u'strongli', u'structur', u'struggl', u'stuck', u'stud', u'student', u'studi', u'studio', u'stuf', u'stuff', u'stuffi', u'stumbl', u'stun', u'stunt', u'stupid', u'style', u'stylish', u'stylist', u'styrofoam', u'sub', u'subject', u'sublim', u'subpar', u'subsequ', u'substanti', u'substitut', u'subtl', u'suburb', u'subway', u'success', u'suck', u'sucker', u'sud', u'sudden', u'suddenli', u'sue', u'suffer', u'suffic', u'suffici', u'sugar', u'sugari', u'suggest', u'suit', u'suitabl', u'sum', u'summari', u'summer', u'sun', u'sunda', u'sunday', u'sunflow', u'sunni', u'super', u'superb', u'superior', u'supermarket', u'supplement', u'suppli', u'support', u'suppos', u'supposedli', u'suprem', u'supris', u'sure', u'surgeon', u'surgeri', u'surli', u'surpris', u'surprisingli', u'surrend', u'surround', u'survey', u'surviv', u'sushi', u'suspect', u'sustain', u'sw', u'swallow', u'swap', u'sway', u'swear', u'sweat', u'sweater', u'sweati', u'sweep', u'sweet', u'sweeter', u'sweetest', u'swim', u'swing', u'swipe', u'swissval', u'switch', u'swordfish', u'sympathet', u'sympathi', u'syrup', u'sysco', u'system', u'ta', u'tab', u'tabl', u'tack', u'tacki', u'taco', u'tactic', u'tad', u'tag', u'tahini', u'tahn', u'tail', u'taillight', u'tailor', u'take', u'taken', u'takeout', u'tale', u'talent', u'talk', u'tall', u'tambellini', u'tampa', u'tangi', u'tap', u'tape', u'target', u'tarragon', u'tart', u'tartar', u'task', u'tast', u'tasteless', u'tasti', u'tastiest', u'tattoo', u'taught', u'tavern', u'tax', u'taylor', u'tazza', u'td', u'tea', u'teach', u'team', u'tear', u'tech', u'technic', u'technician', u'techniqu', u'technolog', u'tee', u'teen', u'teenag', u'teeth', u'televis', u'tell', u'temp', u'tempeh', u'temperatur', u'tempertur', u'temporari', u'tempt', u'tempura', u'ten', u'tenant', u'tend', u'tender', u'tenni', u'tent', u'tequila', u'teriyaki', u'term', u'terribl', u'terrif', u'terrin', u'test', u'testament', u'tex', u'texa', u'text', u'textbook', u'textur', u'th', u'thai', u'thank', u'thanksgiv', u'that', u'theater', u'theatr', u'thee', u'theme', u'there', u'thereaft', u'therefor', u'thermal', u'thick', u'thicker', u'thin', u'thing', u'think', u'thinli', u'third', u'thirsti', u'thirti', u'tho', u'thorough', u'thoroughli', u'though', u'thought', u'thousand', u'threaten', u'three', u'threw', u'thrift', u'thrill', u'throat', u'throughout', u'throw', u'thrown', u'thru', u'thu', u'thug', u'thumb', u'thump', u'thursday', u'ticket', u'tie', u'tight', u'tighten', u'til', u'tilapia', u'tile', u'till', u'tilli', u'tim', u'time', u'timebomb', u'tini', u'tip', u'tipper', u'tiramisu', u'tire', u'tissu', u'titl', u'titletown', u'tj', u'toast', u'today', u'toe', u'toenail', u'tofu', u'togeth', u'toilet', u'toiletri', u'told', u'toler', u'tom', u'tomato', u'tomorrow', u'ton', u'tone', u'tongu', u'toni', u'tonic', u'tonight', u'took', u'tool', u'tooth', u'toothless', u'top', u'toplin', u'torn', u'toro', u'tort', u'torta', u'tortilla', u'toss', u'total', u'tote', u'touch', u'tough', u'tour', u'tourist', u'tout', u'tow', u'toward', u'towel', u'tower', u'town', u'towner', u'toy', u'toyota', u'track', u'trade', u'trader', u'tradit', u'traffic', u'tragic', u'trail', u'train', u'trainer', u'trait', u'transact', u'transfer', u'transit', u'translat', u'transmiss', u'transport', u'trap', u'trash', u'trashi', u'travel', u'travesti', u'tray', u'tre', u'treasur', u'treat', u'treatment', u'tree', u'trek', u'tremend', u'trendi', u'tri', u'trial', u'trick', u'trim', u'trio', u'trip', u'trivia', u'trolley', u'troubl', u'trout', u'trove', u'truck', u'true', u'truffl', u'truli', u'trunk', u'trust', u'trustworthi', u'truth', u'tso', u'tub', u'tube', u'tuck', u'tuesday', u'tuna', u'tune', u'tuneup', u'turkey', u'turn', u'turnaround', u'turnov', u'tux', u'tuxedo', u'tv', u'twenti', u'twice', u'twist', u'two', u'type', u'typic', u'u', u'ugh', u'ugli', u'uh', u'uhhhh', u'ullirch', u'ultim', u'um', u'umm', u'un', u'unabl', u'unaccept', u'unappet', u'unassum', u'unbeliev', u'uncar', u'uncl', u'uncomfort', u'uncook', u'uncov', u'undercook', u'undergo', u'underneath', u'understaf', u'understand', u'understood', u'underwhelm', u'undeserv', u'undi', u'uneasi', u'uneat', u'uneaten', u'uneven', u'unexpect', u'unfinish', u'unfortun', u'unfriendli', u'unhappi', u'unheard', u'unhelp', u'uniform', u'uniqu', u'unit', u'univers', u'unless', u'unlik', u'unlock', u'unnecessari', u'uno', u'unpalat', u'unpasteur', u'unpleas', u'unpretenti', u'unprofession', u'unreli', u'unsaf', u'unsalt', u'unsanitari', u'unsatisfi', u'unsuspect', u'unsweeten', u'untrain', u'unusu', u'unwant', u'unwelcom', u'unwrap', u'up', u'updat', u'updo', u'upfront', u'upgrad', u'upon', u'upper', u'upscal', u'upsel', u'upset', u'upstair', u'upstand', u'upward', u'urban', u'urgenc', u'urgent', u'uri', u'urin', u'us', u'use', u'useless', u'usher', u'usual', u'utensil', u'util', u'utterli', u'uv', u'v', u'vacant', u'vacat', u'vaccin', u'vacuum', u'vagu', u'valentin', u'valet', u'valid', u'valley', u'valu', u'valuabl', u'van', u'vanilla', u'vari', u'varieti', u'variou', u'vb', u'veal', u'veg', u'vegan', u'veget', u'vegetarian', u'veggi', u'vehicl', u'velvet', u'vend', u'vendor', u'venison', u'vent', u'ventil', u'vento', u'ventur', u'venu', u'verd', u'verifi', u'verizon', u'version', u'vet', u'veterinari', u'via', u'vibe', u'victim', u'video', u'view', u'villian', u'vincent', u'vindict', u'vinegar', u'vintag', u'violat', u'virginia', u'virtual', u'viru', u'visibl', u'vision', u'visit', u'visitor', u'visual', u'vital', u'vivo', u'vodka', u'voic', u'voicemail', u'void', u'volum', u'volunt', u'voucher', u'vow', u'vs', u'w', u'waffl', u'wage', u'wait', u'waiter', u'waitress', u'waitstaff', u'wake', u'walgreen', u'walk', u'wall', u'wallet', u'walnut', u'walt', u'walter', u'wan', u'wander', u'want', u'war', u'ward', u'wardrob', u'ware', u'warehous', u'warm', u'warmer', u'warn', u'warp', u'warrant', u'warranti', u'wasabi', u'wash', u'washer', u'washington', u'wasnt', u'wasp', u'wast', u'watch', u'watchtow', u'water', u'waterfront', u'wateri', u'watermelon', u'waterpark', u'wave', u'wax', u'way', u'weak', u'wealthi', u'wear', u'wearhous', u'weather', u'websit', u'wed', u'wedg', u'wedgi', u'wednesday', u'weed', u'week', u'weekday', u'weekend', u'weekli', u'weeknight', u'weight', u'weinberg', u'weird', u'welcom', u'well', u'wendi', u'went', u'west', u'western', u'westin', u'wet', u'wexford', u'wf', u'whatev', u'whatsoev', u'wheat', u'wheel', u'wheelchair', u'whenev', u'wherea', u'wherev', u'whether', u'whim', u'whine', u'whip', u'white', u'whoa', u'whoever', u'whole', u'wholefood', u'wholey', u'whose', u'wide', u'widow', u'wiener', u'wife', u'wifi', u'wild', u'wilkinsburg', u'will', u'william', u'wilt', u'win', u'wind', u'window', u'wine', u'wing', u'winner', u'winter', u'wipe', u'wire', u'wireless', u'wise', u'wish', u'wit', u'withdraw', u'within', u'without', u'wiz', u'woe', u'woke', u'woman', u'women', u'wonder', u'wonki', u'wont', u'wonton', u'woo', u'wood', u'wooden', u'word', u'work', u'worker', u'workingclass', u'workmanship', u'workplac', u'world', u'worm', u'worn', u'worri', u'wors', u'worship', u'worst', u'worth', u'worthi', u'worthwhil', u'would', u'wouldnt', u'wound', u'wow', u'wqed', u'wrap', u'wreck', u'wrinkl', u'write', u'written', u'wrong', u'wrote', u'wtf', u'wv', u'www', u'x', u'ya', u'yall', u'yard', u'yay', u'ye', u'yea', u'yeah', u'year', u'yearli', u'yell', u'yellow', u'yelp', u'yelper', u'yep', u'yesterday', u'yet', u'yike', u'yinz', u'yinzer', u'yo', u'yogurt', u'yoke', u'york', u'young', u'younger', u'youth', u'yr', u'yuck', u'yuengl', u'yum', u'yummi', u'yup', u'yuppi', u'zenith', u'zero', u'zinho', u'ziti', u'zombi', u'zone', u'zoo', u'zoom', u'zucchini']\n"
     ]
    },
    {
     "data": {
      "text/plain": [
       "5000"
      ]
     },
     "execution_count": 76,
     "metadata": {},
     "output_type": "execute_result"
    }
   ],
   "source": [
    "# learn and fit the model/vectorizer and transform corpus into feature vectors\n",
    "corpus_all_features = vectorizer.fit_transform(data.reviews.tolist())\n",
    "\n",
    "# make corpus features a numpy array\n",
    "corpus_all_features = corpus_all_features.toarray()\n",
    "\n",
    "# print the features\n",
    "features_corpus = vectorizer.get_feature_names()\n",
    "print features_corpus\n",
    "len(features_corpus)"
   ]
  },
  {
   "cell_type": "code",
   "execution_count": 77,
   "metadata": {},
   "outputs": [
    {
     "name": "stdout",
     "output_type": "stream",
     "text": [
      "             precision    recall  f1-score   support\n",
      "\n",
      "          0       0.85      0.86      0.85       353\n",
      "          1       0.85      0.84      0.85       343\n",
      "\n",
      "avg / total       0.85      0.85      0.85       696\n",
      "\n"
     ]
    }
   ],
   "source": [
    "# Test with LogRegression classifier to see if increase in features increases scores\n",
    "\n",
    "from sklearn.cross_validation import train_test_split\n",
    "\n",
    "X_train, X_test, y_train, y_test  = train_test_split(\n",
    "        corpus_all_features, \n",
    "        data.sentiment,\n",
    "        train_size=0.85,\n",
    "        random_state=1234)\n",
    "\n",
    "# Create the Log Regression classifier\n",
    "from sklearn.linear_model import LogisticRegression\n",
    "\n",
    "log_mod = LogisticRegression()\n",
    "log_mod = log_mod.fit(X_train, y_train)\n",
    "\n",
    "y_log_pred = log_mod.predict(X_test)\n",
    "\n",
    "# find classifier precision\n",
    "from sklearn.metrics import classification_report\n",
    "print(classification_report(y_test, y_log_pred))"
   ]
  },
  {
   "cell_type": "code",
   "execution_count": 79,
   "metadata": {},
   "outputs": [],
   "source": [
    "# Find out how other classifiers perform\n",
    "\n",
    "from sklearn.naive_bayes import GaussianNB, MultinomialNB, BernoulliNB\n",
    "from sklearn.linear_model import LogisticRegression,SGDClassifier\n",
    "from sklearn.svm import LinearSVC\n",
    "\n",
    "classifiers = {'Logistic': LogisticRegression(),\n",
    "               'GaussianNB':GaussianNB(),\n",
    "               'BernoulliNB': BernoulliNB(),\n",
    "               'MultinomialNB': MultinomialNB(),\n",
    "               'Stochastic GD': SGDClassifier()}"
   ]
  },
  {
   "cell_type": "code",
   "execution_count": 80,
   "metadata": {},
   "outputs": [
    {
     "name": "stdout",
     "output_type": "stream",
     "text": [
      "BernoulliNB had an accuracy score of 0.83\n",
      "GaussianNB had an accuracy score of 0.68\n",
      "MultinomialNB had an accuracy score of 0.88\n",
      "Logistic had an accuracy score of 0.85\n",
      "Stochastic GD had an accuracy score of 0.81\n"
     ]
    }
   ],
   "source": [
    "from sklearn.metrics import roc_auc_score\n",
    "\n",
    "for name, clf in classifiers.items():\n",
    "    clf.fit(X_train,y_train)\n",
    "    y_pred = clf.predict(X_test)\n",
    "    score = roc_auc_score(y_test, y_pred)\n",
    "    print \"%s had an accuracy score of %0.2f\"% (name, score)"
   ]
  },
  {
   "cell_type": "code",
   "execution_count": 81,
   "metadata": {},
   "outputs": [
    {
     "name": "stdout",
     "output_type": "stream",
     "text": [
      "Randomforest (1) had an accuracy score of 0.5618\n",
      "Randomforest (2) had an accuracy score of 0.6336\n",
      "Randomforest (3) had an accuracy score of 0.6466\n",
      "Randomforest (4) had an accuracy score of 0.7098\n",
      "Randomforest (5) had an accuracy score of 0.6480\n",
      "Randomforest (6) had an accuracy score of 0.6968\n",
      "Randomforest (7) had an accuracy score of 0.6997\n",
      "Randomforest (8) had an accuracy score of 0.7371\n",
      "Randomforest (9) had an accuracy score of 0.7399\n",
      "Randomforest (10) had an accuracy score of 0.7543\n",
      "Randomforest (11) had an accuracy score of 0.7227\n",
      "Randomforest (12) had an accuracy score of 0.7557\n",
      "Randomforest (13) had an accuracy score of 0.7486\n",
      "Randomforest (14) had an accuracy score of 0.7385\n",
      "Randomforest (15) had an accuracy score of 0.7399\n",
      "Randomforest (16) had an accuracy score of 0.7672\n",
      "Randomforest (17) had an accuracy score of 0.7658\n",
      "Randomforest (18) had an accuracy score of 0.7529\n",
      "Randomforest (19) had an accuracy score of 0.7816\n",
      "Randomforest (20) had an accuracy score of 0.7543\n",
      "Randomforest (21) had an accuracy score of 0.7787\n",
      "Randomforest (22) had an accuracy score of 0.7744\n",
      "Randomforest (23) had an accuracy score of 0.7701\n",
      "Randomforest (24) had an accuracy score of 0.7874\n",
      "Randomforest (25) had an accuracy score of 0.7744\n",
      "Randomforest (26) had an accuracy score of 0.7701\n",
      "Randomforest (27) had an accuracy score of 0.7730\n",
      "Randomforest (28) had an accuracy score of 0.7730\n",
      "Randomforest (29) had an accuracy score of 0.7845\n",
      "Randomforest (30) had an accuracy score of 0.7845\n",
      "Randomforest (31) had an accuracy score of 0.7730\n",
      "Randomforest (32) had an accuracy score of 0.7816\n",
      "Randomforest (33) had an accuracy score of 0.7816\n",
      "Randomforest (34) had an accuracy score of 0.7859\n",
      "Randomforest (35) had an accuracy score of 0.7716\n",
      "Randomforest (36) had an accuracy score of 0.7759\n",
      "Randomforest (37) had an accuracy score of 0.7960\n",
      "Randomforest (38) had an accuracy score of 0.7945\n",
      "Randomforest (39) had an accuracy score of 0.8103\n",
      "Randomforest (40) had an accuracy score of 0.7716\n",
      "DecisionTree (1) had an accuracy score of 0.5718\n",
      "DecisionTree (2) had an accuracy score of 0.6063\n",
      "DecisionTree (3) had an accuracy score of 0.6322\n",
      "DecisionTree (4) had an accuracy score of 0.6537\n",
      "DecisionTree (5) had an accuracy score of 0.6537\n",
      "DecisionTree (6) had an accuracy score of 0.6537\n",
      "DecisionTree (7) had an accuracy score of 0.6537\n",
      "DecisionTree (8) had an accuracy score of 0.6710\n",
      "DecisionTree (9) had an accuracy score of 0.6695\n",
      "DecisionTree (10) had an accuracy score of 0.7026\n",
      "DecisionTree (11) had an accuracy score of 0.6968\n",
      "DecisionTree (12) had an accuracy score of 0.7069\n",
      "DecisionTree (13) had an accuracy score of 0.7083\n",
      "DecisionTree (14) had an accuracy score of 0.7112\n",
      "DecisionTree (15) had an accuracy score of 0.7112\n",
      "DecisionTree (16) had an accuracy score of 0.7184\n",
      "DecisionTree (17) had an accuracy score of 0.7184\n",
      "DecisionTree (18) had an accuracy score of 0.7213\n",
      "DecisionTree (19) had an accuracy score of 0.7227\n",
      "DecisionTree (20) had an accuracy score of 0.7184\n",
      "DecisionTree (21) had an accuracy score of 0.7184\n",
      "DecisionTree (22) had an accuracy score of 0.7198\n",
      "DecisionTree (23) had an accuracy score of 0.7313\n",
      "DecisionTree (24) had an accuracy score of 0.7299\n",
      "DecisionTree (25) had an accuracy score of 0.7241\n",
      "DecisionTree (26) had an accuracy score of 0.7213\n",
      "DecisionTree (27) had an accuracy score of 0.7299\n",
      "DecisionTree (28) had an accuracy score of 0.7299\n",
      "DecisionTree (29) had an accuracy score of 0.7399\n",
      "DecisionTree (30) had an accuracy score of 0.7371\n",
      "DecisionTree (31) had an accuracy score of 0.7342\n",
      "DecisionTree (32) had an accuracy score of 0.7371\n",
      "DecisionTree (33) had an accuracy score of 0.7356\n",
      "DecisionTree (34) had an accuracy score of 0.7385\n",
      "DecisionTree (35) had an accuracy score of 0.7299\n",
      "DecisionTree (36) had an accuracy score of 0.7342\n",
      "DecisionTree (37) had an accuracy score of 0.7414\n",
      "DecisionTree (38) had an accuracy score of 0.7284\n",
      "DecisionTree (39) had an accuracy score of 0.7299\n",
      "DecisionTree (40) had an accuracy score of 0.7414\n"
     ]
    }
   ],
   "source": [
    "# Will Random Forest or Decision Tree classifiers do better?\n",
    "from sklearn.ensemble import RandomForestClassifier\n",
    "from sklearn.tree import DecisionTreeClassifier\n",
    "\n",
    "classifier2 = {'Randomforest':RandomForestClassifier,\n",
    "               'DecisionTree':DecisionTreeClassifier}\n",
    "\n",
    "x_train, x_test, y_train, y_test = train_test_split(\n",
    "        corpus_all_features, \n",
    "        data.sentiment,\n",
    "        train_size=0.85,\n",
    "        random_state=1234)\n",
    "\n",
    "for name, model in classifier2.items():\n",
    "    for i in range(1,41):\n",
    "        clf=model(max_depth = i)\n",
    "        clf.fit(x_train, y_train)\n",
    "        score = clf.score(x_test, y_test)\n",
    "        print \"%s (%s) had an accuracy score of %0.4f\"% (name, i, score)"
   ]
  },
  {
   "cell_type": "markdown",
   "metadata": {},
   "source": [
    "Random Forest (max_depth = 39) gives an accuracy of over 0.8 while Decision Tree did not go beyond 0.8."
   ]
  },
  {
   "cell_type": "code",
   "execution_count": 83,
   "metadata": {},
   "outputs": [
    {
     "name": "stdout",
     "output_type": "stream",
     "text": [
      "BernoulliNB had an accuracy score of 0.83\n",
      "RandomForest had an accuracy score of 0.80\n",
      "GaussianNB had an accuracy score of 0.68\n",
      "Stochastic GD had an accuracy score of 0.83\n",
      "Logistic had an accuracy score of 0.85\n",
      "MultinomialNB had an accuracy score of 0.88\n"
     ]
    }
   ],
   "source": [
    "classifiers3 = {'Logistic': LogisticRegression(),\n",
    "               'GaussianNB':GaussianNB(),\n",
    "               'BernoulliNB': BernoulliNB(),\n",
    "               'MultinomialNB': MultinomialNB(),\n",
    "               'Stochastic GD': SGDClassifier(),\n",
    "               'RandomForest': RandomForestClassifier(max_depth = 39)}\n",
    "for name, clf in classifiers3.items():\n",
    "    clf.fit(X_train,y_train)\n",
    "    y_pred = clf.predict(X_test)\n",
    "    score = roc_auc_score(y_test, y_pred)\n",
    "    print \"%s had an accuracy score of %0.2f\"% (name, score)"
   ]
  },
  {
   "cell_type": "markdown",
   "metadata": {},
   "source": [
    "**Multinomial classifier** performed the best for the Sentiment Analyzer."
   ]
  }
 ],
 "metadata": {
  "celltoolbar": "Raw Cell Format",
  "kernelspec": {
   "display_name": "Python 2",
   "language": "python",
   "name": "python2"
  },
  "language_info": {
   "codemirror_mode": {
    "name": "ipython",
    "version": 2
   },
   "file_extension": ".py",
   "mimetype": "text/x-python",
   "name": "python",
   "nbconvert_exporter": "python",
   "pygments_lexer": "ipython2",
   "version": "2.7.13"
  }
 },
 "nbformat": 4,
 "nbformat_minor": 2
}
